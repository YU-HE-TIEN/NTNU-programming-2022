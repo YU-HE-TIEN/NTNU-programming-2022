{
 "cells": [
  {
   "cell_type": "code",
   "execution_count": 7,
   "id": "ed9794a2",
   "metadata": {
    "scrolled": false
   },
   "outputs": [
    {
     "name": "stdout",
     "output_type": "stream",
     "text": [
      " int,float 練習\n",
      "<class 'int'>\n",
      "<class 'float'>\n",
      "總共要繳納的金額： 115612 元\n"
     ]
    }
   ],
   "source": [
    "#int,float 練習\n",
    "money=63852\n",
    "year=4\n",
    "rate=0.16\n",
    "total_money=money*(1+rate)**year\n",
    "print(type(money))\n",
    "print(type(rate))\n",
    "print(\"總共要繳納的金額：\",int(total_money),\"元\")"
   ]
  },
  {
   "cell_type": "code",
   "execution_count": 10,
   "id": "b03bb973",
   "metadata": {},
   "outputs": [
    {
     "name": "stdout",
     "output_type": "stream",
     "text": [
      "日期： 2022/9/15 \n",
      "判決內容： 偽造文書\n",
      "判決書內容： \n",
      "臺灣臺北地方法院刑事判決　　　　　　　　　　　　八十九年度訴字第一二五五號\n",
      "　　公　訴　人　臺灣臺北地方法院檢察署檢察官\n",
      "　　被　　　告　邱李彩鶯\n",
      "　　　　　　　　邱清義　\n",
      "右列被告因偽造文書等案件，經檢察官提起公訴（八十九年度偵字第二００八號），\n",
      "本院判決如左：\n",
      "    主  文\n",
      "邱李彩鶯、邱清義共同為他人處理事務，意圖為自己不法之利益，而為違背其任務之\n",
      "行為，致生損害於本人之財產，各處有期徒刑肆月，如易科罰金，均以參佰元折算壹\n",
      "日。又共同行使偽造私文書，足以生損害於公眾及他人，各處有期徒刑參月，如易科\n",
      "罰金，均以參佰元折算壹日。各應執行有期徒刑伍月，如易科罰金，均以參佰元折算\n",
      "壹日。\n",
      "據上論斷，應依刑事訴訟法第二百九十九條第一項前段，刑法第二條第一項前段、第\n",
      "二十八條、第三百四十二條第一項、第二百十六條、第二百十條、第二百十四條、第\n",
      "五十五條、第五十一條第五款、修正後刑法第四十一條第一項前段、第二項，罰金罰\n",
      "鍰提高標準條例第一條前段、第二條，判決如主文。\n",
      "本案經檢察官李韋昌到庭執行職務\n",
      "中      華      民      國      九十        年    六      月    五    日\n",
      "                                      臺灣臺北地方法院刑事第五庭\n",
      "                                          法  官  陳容正\n",
      "右正本證明與原本無異\n",
      "如不服本判決應於送達後十日內向本院提出上訴狀\n",
      "                                          書記官  林妙穗\n",
      "中      華      民      國      九十        年   六       月    五    日\n"
     ]
    }
   ],
   "source": [
    "# str 練習\n",
    "date=\"2022/9/15\"\n",
    "topic=\"偽造文書\"\n",
    "print(\"日期：\",date,\"\\n判決內容：\",topic)\n",
    "print(\"判決書內容：\",'''\n",
    "臺灣臺北地方法院刑事判決　　　　　　　　　　　　八十九年度訴字第一二五五號\n",
    "　　公　訴　人　臺灣臺北地方法院檢察署檢察官\n",
    "　　被　　　告　邱李彩鶯\n",
    "　　　　　　　　邱清義　\n",
    "右列被告因偽造文書等案件，經檢察官提起公訴（八十九年度偵字第二００八號），\n",
    "本院判決如左：\n",
    "    主  文\n",
    "邱李彩鶯、邱清義共同為他人處理事務，意圖為自己不法之利益，而為違背其任務之\n",
    "行為，致生損害於本人之財產，各處有期徒刑肆月，如易科罰金，均以參佰元折算壹\n",
    "日。又共同行使偽造私文書，足以生損害於公眾及他人，各處有期徒刑參月，如易科\n",
    "罰金，均以參佰元折算壹日。各應執行有期徒刑伍月，如易科罰金，均以參佰元折算\n",
    "壹日。\n",
    "據上論斷，應依刑事訴訟法第二百九十九條第一項前段，刑法第二條第一項前段、第\n",
    "二十八條、第三百四十二條第一項、第二百十六條、第二百十條、第二百十四條、第\n",
    "五十五條、第五十一條第五款、修正後刑法第四十一條第一項前段、第二項，罰金罰\n",
    "鍰提高標準條例第一條前段、第二條，判決如主文。\n",
    "本案經檢察官李韋昌到庭執行職務\n",
    "中      華      民      國      九十        年    六      月    五    日\n",
    "                                      臺灣臺北地方法院刑事第五庭\n",
    "                                          法  官  陳容正\n",
    "右正本證明與原本無異\n",
    "如不服本判決應於送達後十日內向本院提出上訴狀\n",
    "                                          書記官  林妙穗\n",
    "中      華      民      國      九十        年   六       月    五    日''')"
   ]
  },
  {
   "cell_type": "code",
   "execution_count": 13,
   "id": "b3dd0a6e",
   "metadata": {},
   "outputs": [
    {
     "name": "stdout",
     "output_type": "stream",
     "text": [
      "True\n",
      "True\n",
      "False\n",
      "True\n",
      "[True, True, False, True]\n"
     ]
    }
   ],
   "source": [
    "#bool 練習\n",
    "String_List=[\"有酒駕\",\"有酒駕\",\"無酒駕\",\"有酒駕\"]\n",
    "#第一種方法\n",
    "for event in String_List:\n",
    "    if event==\"有酒駕\":\n",
    "        print(\"True\")\n",
    "    else:\n",
    "        print(\"False\")\n",
    "#第二種方法\n",
    "boolean_list=[X==\"有酒駕\"for X in String_List]\n",
    "print(boolean_list)"
   ]
  },
  {
   "cell_type": "code",
   "execution_count": null,
   "id": "04d5adf1",
   "metadata": {},
   "outputs": [],
   "source": []
  }
 ],
 "metadata": {
  "kernelspec": {
   "display_name": "Python 3 (ipykernel)",
   "language": "python",
   "name": "python3"
  },
  "language_info": {
   "codemirror_mode": {
    "name": "ipython",
    "version": 3
   },
   "file_extension": ".py",
   "mimetype": "text/x-python",
   "name": "python",
   "nbconvert_exporter": "python",
   "pygments_lexer": "ipython3",
   "version": "3.9.12"
  }
 },
 "nbformat": 4,
 "nbformat_minor": 5
}
