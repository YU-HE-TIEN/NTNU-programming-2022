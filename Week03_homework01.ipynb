{
 "cells": [
  {
   "cell_type": "code",
   "execution_count": 18,
   "id": "02357377",
   "metadata": {},
   "outputs": [],
   "source": [
    "# 比對台灣未來50年規模6.5以上發生機率大於10%的活動斷層與劃設地質敏感區的活動斷層\n",
    "# 找出交集、聯集、差集、對稱差集的活動斷層\n",
    "#fiftyquake=台灣未來50年規模6.5以上發生機率大於10%的活動斷層\n",
    "#geoareas=劃設地質敏感區的活動斷層"
   ]
  },
  {
   "cell_type": "code",
   "execution_count": 50,
   "id": "afe66523",
   "metadata": {
    "scrolled": true
   },
   "outputs": [],
   "source": [
    "import pandas as pd\n",
    "#讀csv\n",
    "FQ=pd.read_csv(r\"\\Users\\tien\\Documents\\GitHub\\PL\\file\\W3\\fiftyquake.csv\")\n",
    "GA=pd.read_csv(r'\\Users\\tien\\Documents\\GitHub\\PL\\file\\W3\\geoareas.csv')"
   ]
  },
  {
   "cell_type": "code",
   "execution_count": 51,
   "id": "69569644",
   "metadata": {},
   "outputs": [
    {
     "data": {
      "text/html": [
       "<div>\n",
       "<style scoped>\n",
       "    .dataframe tbody tr th:only-of-type {\n",
       "        vertical-align: middle;\n",
       "    }\n",
       "\n",
       "    .dataframe tbody tr th {\n",
       "        vertical-align: top;\n",
       "    }\n",
       "\n",
       "    .dataframe thead th {\n",
       "        text-align: right;\n",
       "    }\n",
       "</style>\n",
       "<table border=\"1\" class=\"dataframe\">\n",
       "  <thead>\n",
       "    <tr style=\"text-align: right;\">\n",
       "      <th></th>\n",
       "      <th>分區</th>\n",
       "      <th>標題</th>\n",
       "      <th>斷層分類：</th>\n",
       "      <th>通過縣市：</th>\n",
       "      <th>未來50年規模6.5以上發生機率大於10%的斷層構造</th>\n",
       "    </tr>\n",
       "  </thead>\n",
       "  <tbody>\n",
       "    <tr>\n",
       "      <th>0</th>\n",
       "      <td>北部</td>\n",
       "      <td>山腳斷層</td>\n",
       "      <td>第二類活動斷層</td>\n",
       "      <td>台北縣</td>\n",
       "      <td>大甲斷層</td>\n",
       "    </tr>\n",
       "    <tr>\n",
       "      <th>1</th>\n",
       "      <td>北部</td>\n",
       "      <td>湖口斷層</td>\n",
       "      <td>第二類活動斷層</td>\n",
       "      <td>桃園縣、新竹縣</td>\n",
       "      <td>彰化斷層</td>\n",
       "    </tr>\n",
       "    <tr>\n",
       "      <th>2</th>\n",
       "      <td>北部</td>\n",
       "      <td>新竹斷層</td>\n",
       "      <td>存疑性活動斷層</td>\n",
       "      <td>新竹市、新竹縣</td>\n",
       "      <td>車籠埔斷層</td>\n",
       "    </tr>\n",
       "    <tr>\n",
       "      <th>3</th>\n",
       "      <td>北部</td>\n",
       "      <td>新城斷層</td>\n",
       "      <td>第二類活動斷層</td>\n",
       "      <td>新竹縣、苗栗縣</td>\n",
       "      <td>九芎坑斷層</td>\n",
       "    </tr>\n",
       "    <tr>\n",
       "      <th>4</th>\n",
       "      <td>北部</td>\n",
       "      <td>獅潭斷層</td>\n",
       "      <td>第一類活動斷層</td>\n",
       "      <td>苗栗縣</td>\n",
       "      <td>木屐寮斷層</td>\n",
       "    </tr>\n",
       "  </tbody>\n",
       "</table>\n",
       "</div>"
      ],
      "text/plain": [
       "   分區    標題    斷層分類：    通過縣市： 未來50年規模6.5以上發生機率大於10%的斷層構造\n",
       "0  北部  山腳斷層  第二類活動斷層      台北縣                       大甲斷層\n",
       "1  北部  湖口斷層  第二類活動斷層  桃園縣、新竹縣                       彰化斷層\n",
       "2  北部  新竹斷層  存疑性活動斷層  新竹市、新竹縣                      車籠埔斷層\n",
       "3  北部  新城斷層  第二類活動斷層  新竹縣、苗栗縣                      九芎坑斷層\n",
       "4  北部  獅潭斷層  第一類活動斷層      苗栗縣                      木屐寮斷層"
      ]
     },
     "execution_count": 51,
     "metadata": {},
     "output_type": "execute_result"
    }
   ],
   "source": [
    "FQ.head()"
   ]
  },
  {
   "cell_type": "code",
   "execution_count": 52,
   "id": "064bdaee",
   "metadata": {
    "scrolled": false
   },
   "outputs": [
    {
     "data": {
      "text/html": [
       "<div>\n",
       "<style scoped>\n",
       "    .dataframe tbody tr th:only-of-type {\n",
       "        vertical-align: middle;\n",
       "    }\n",
       "\n",
       "    .dataframe tbody tr th {\n",
       "        vertical-align: top;\n",
       "    }\n",
       "\n",
       "    .dataframe thead th {\n",
       "        text-align: right;\n",
       "    }\n",
       "</style>\n",
       "<table border=\"1\" class=\"dataframe\">\n",
       "  <thead>\n",
       "    <tr style=\"text-align: right;\">\n",
       "      <th></th>\n",
       "      <th>地質敏感區斷層</th>\n",
       "    </tr>\n",
       "  </thead>\n",
       "  <tbody>\n",
       "    <tr>\n",
       "      <th>15</th>\n",
       "      <td>獅潭斷層</td>\n",
       "    </tr>\n",
       "    <tr>\n",
       "      <th>16</th>\n",
       "      <td>屯子腳斷層</td>\n",
       "    </tr>\n",
       "    <tr>\n",
       "      <th>17</th>\n",
       "      <td>嶺頂斷層</td>\n",
       "    </tr>\n",
       "    <tr>\n",
       "      <th>18</th>\n",
       "      <td>梅山斷層</td>\n",
       "    </tr>\n",
       "    <tr>\n",
       "      <th>19</th>\n",
       "      <td>小崗山斷層</td>\n",
       "    </tr>\n",
       "  </tbody>\n",
       "</table>\n",
       "</div>"
      ],
      "text/plain": [
       "   地質敏感區斷層\n",
       "15    獅潭斷層\n",
       "16   屯子腳斷層\n",
       "17    嶺頂斷層\n",
       "18    梅山斷層\n",
       "19   小崗山斷層"
      ]
     },
     "execution_count": 52,
     "metadata": {},
     "output_type": "execute_result"
    }
   ],
   "source": [
    "GA.tail()"
   ]
  },
  {
   "cell_type": "code",
   "execution_count": 53,
   "id": "acdf779a",
   "metadata": {},
   "outputs": [
    {
     "name": "stdout",
     "output_type": "stream",
     "text": [
      "未來50年規模6.5以上發生機率大於10%的斷層構造總共有 17 個\n"
     ]
    }
   ],
   "source": [
    "source1 = list(FQ['未來50年規模6.5以上發生機率大於10%的斷層構造'])\n",
    "print('未來50年規模6.5以上發生機率大於10%的斷層構造總共有',len(source1),'個')"
   ]
  },
  {
   "cell_type": "code",
   "execution_count": 54,
   "id": "9be21741",
   "metadata": {},
   "outputs": [
    {
     "name": "stdout",
     "output_type": "stream",
     "text": [
      "地質敏感區斷層總共有 20 個\n"
     ]
    }
   ],
   "source": [
    "source2=list(GA['地質敏感區斷層'])\n",
    "print('地質敏感區斷層總共有',len(source2),'個')"
   ]
  },
  {
   "cell_type": "code",
   "execution_count": 55,
   "id": "4393dd50",
   "metadata": {},
   "outputs": [
    {
     "data": {
      "text/plain": [
       "['大甲斷層',\n",
       " '彰化斷層',\n",
       " '車籠埔斷層',\n",
       " '九芎坑斷層',\n",
       " '木屐寮斷層',\n",
       " '六甲斷層',\n",
       " '觸口斷層',\n",
       " '新化斷層',\n",
       " '旗山斷層',\n",
       " '恆春斷層',\n",
       " '米崙斷層',\n",
       " '嶺頂斷層',\n",
       " '瑞穗斷層',\n",
       " '玉里斷層',\n",
       " '池上斷層',\n",
       " '鹿野斷層',\n",
       " '利吉斷層']"
      ]
     },
     "execution_count": 55,
     "metadata": {},
     "output_type": "execute_result"
    }
   ],
   "source": [
    "source1"
   ]
  },
  {
   "cell_type": "code",
   "execution_count": 48,
   "id": "c91a2cb4",
   "metadata": {},
   "outputs": [
    {
     "data": {
      "text/plain": [
       "['車籠埔斷層',\n",
       " '池上斷層',\n",
       " '旗山斷層',\n",
       " '新城斷層',\n",
       " '新竹斷層',\n",
       " '新化斷層',\n",
       " '大尖山斷層',\n",
       " '鹿野斷層',\n",
       " '三義斷層',\n",
       " '米崙斷層',\n",
       " '大甲斷層',\n",
       " '九芎坑斷層',\n",
       " '瑞穗斷層',\n",
       " '奇美斷層',\n",
       " '六甲斷層',\n",
       " '獅潭斷層',\n",
       " '屯子腳斷層',\n",
       " '嶺頂斷層',\n",
       " '梅山斷層',\n",
       " '小崗山斷層']"
      ]
     },
     "execution_count": 48,
     "metadata": {},
     "output_type": "execute_result"
    }
   ],
   "source": [
    "source2"
   ]
  },
  {
   "cell_type": "code",
   "execution_count": 59,
   "id": "1e51505e",
   "metadata": {},
   "outputs": [],
   "source": [
    "FQs1={'大甲斷層','彰化斷層','車籠埔斷層','九芎坑斷層','木屐寮斷層',\n",
    " '六甲斷層','觸口斷層','新化斷層','旗山斷層','恆春斷層','米崙斷層',\n",
    " '嶺頂斷層','瑞穗斷層','玉里斷層','池上斷層','鹿野斷層','利吉斷層'}"
   ]
  },
  {
   "cell_type": "code",
   "execution_count": 60,
   "id": "19a4867c",
   "metadata": {},
   "outputs": [],
   "source": [
    "GAs2={'車籠埔斷層','池上斷層','旗山斷層','新城斷層','新竹斷層',\n",
    " '新化斷層','大尖山斷層','鹿野斷層','三義斷層','米崙斷層','大甲斷層',\n",
    " '九芎坑斷層','瑞穗斷層','奇美斷層','六甲斷層','獅潭斷層','屯子腳斷層',\n",
    " '嶺頂斷層','梅山斷層','小崗山斷層'}"
   ]
  },
  {
   "cell_type": "code",
   "execution_count": 61,
   "id": "6e969f02",
   "metadata": {},
   "outputs": [
    {
     "data": {
      "text/plain": [
       "{'九芎坑斷層',\n",
       " '六甲斷層',\n",
       " '利吉斷層',\n",
       " '大甲斷層',\n",
       " '嶺頂斷層',\n",
       " '彰化斷層',\n",
       " '恆春斷層',\n",
       " '新化斷層',\n",
       " '旗山斷層',\n",
       " '木屐寮斷層',\n",
       " '池上斷層',\n",
       " '玉里斷層',\n",
       " '瑞穗斷層',\n",
       " '米崙斷層',\n",
       " '觸口斷層',\n",
       " '車籠埔斷層',\n",
       " '鹿野斷層'}"
      ]
     },
     "execution_count": 61,
     "metadata": {},
     "output_type": "execute_result"
    }
   ],
   "source": [
    "FQs1"
   ]
  },
  {
   "cell_type": "code",
   "execution_count": 62,
   "id": "b5379aa2",
   "metadata": {},
   "outputs": [
    {
     "data": {
      "text/plain": [
       "{'三義斷層',\n",
       " '九芎坑斷層',\n",
       " '六甲斷層',\n",
       " '大尖山斷層',\n",
       " '大甲斷層',\n",
       " '奇美斷層',\n",
       " '小崗山斷層',\n",
       " '屯子腳斷層',\n",
       " '嶺頂斷層',\n",
       " '新化斷層',\n",
       " '新城斷層',\n",
       " '新竹斷層',\n",
       " '旗山斷層',\n",
       " '梅山斷層',\n",
       " '池上斷層',\n",
       " '獅潭斷層',\n",
       " '瑞穗斷層',\n",
       " '米崙斷層',\n",
       " '車籠埔斷層',\n",
       " '鹿野斷層'}"
      ]
     },
     "execution_count": 62,
     "metadata": {},
     "output_type": "execute_result"
    }
   ],
   "source": [
    "GAs2"
   ]
  },
  {
   "cell_type": "code",
   "execution_count": 63,
   "id": "a51f2799",
   "metadata": {},
   "outputs": [
    {
     "data": {
      "text/plain": [
       "{'利吉斷層', '彰化斷層', '恆春斷層', '木屐寮斷層', '玉里斷層', '觸口斷層'}"
      ]
     },
     "execution_count": 63,
     "metadata": {},
     "output_type": "execute_result"
    }
   ],
   "source": [
    "#\n",
    "FQs1-GAs2"
   ]
  },
  {
   "cell_type": "code",
   "execution_count": 64,
   "id": "0ce6fc6f",
   "metadata": {},
   "outputs": [
    {
     "data": {
      "text/plain": [
       "{'三義斷層', '大尖山斷層', '奇美斷層', '小崗山斷層', '屯子腳斷層', '新城斷層', '新竹斷層', '梅山斷層', '獅潭斷層'}"
      ]
     },
     "execution_count": 64,
     "metadata": {},
     "output_type": "execute_result"
    }
   ],
   "source": [
    "#\n",
    "GAs2-FQs1"
   ]
  },
  {
   "cell_type": "code",
   "execution_count": null,
   "id": "0dfe9465",
   "metadata": {},
   "outputs": [],
   "source": []
  }
 ],
 "metadata": {
  "kernelspec": {
   "display_name": "Python 3 (ipykernel)",
   "language": "python",
   "name": "python3"
  },
  "language_info": {
   "codemirror_mode": {
    "name": "ipython",
    "version": 3
   },
   "file_extension": ".py",
   "mimetype": "text/x-python",
   "name": "python",
   "nbconvert_exporter": "python",
   "pygments_lexer": "ipython3",
   "version": "3.9.12"
  }
 },
 "nbformat": 4,
 "nbformat_minor": 5
}
