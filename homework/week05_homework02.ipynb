{
 "cells": [
  {
   "cell_type": "code",
   "execution_count": null,
   "id": "4408096b",
   "metadata": {},
   "outputs": [],
   "source": [
    "# 1.提出可拿到的資料甚麼適合放進dict的實例\n",
    "## a.修課列表 b.颱風路線災損 c.歷年縣市癌症發生率\n",
    "##a,c可用excel方正表格解決，最終選擇 b.颱風路線災損"
   ]
  },
  {
   "cell_type": "code",
   "execution_count": 17,
   "id": "a50f3810",
   "metadata": {},
   "outputs": [],
   "source": [
    "# 2. 將資料存成json格式\n",
    "# a.下載政府json資料  b.csv to json  c.手動 key json(Json Parser Online)\n",
    "## 颱風路線災損資料室word，我直接手打成json\n",
    "#將記事本轉為json檔匯入\n",
    "#記得改副檔名為.json\n",
    "#以下是練習json檔匯入"
   ]
  },
  {
   "cell_type": "code",
   "execution_count": 22,
   "id": "5c8cc19c",
   "metadata": {},
   "outputs": [
    {
     "data": {
      "text/plain": [
       "list"
      ]
     },
     "execution_count": 22,
     "metadata": {},
     "output_type": "execute_result"
    }
   ],
   "source": [
    "import json\n",
    "test = open(r\"C:\\Users\\tien\\Documents\\GitHub\\PL\\file\\W5\\fiftyquakes.json\",encoding=\"utf8\")\n",
    "data=json.load(test)\n",
    "type(data)\n",
    "#不確定為何是list，不是dict"
   ]
  },
  {
   "cell_type": "code",
   "execution_count": 19,
   "id": "d6bbf039",
   "metadata": {},
   "outputs": [
    {
     "data": {
      "text/plain": [
       "[{'分區': '北部',\n",
       "  '標題': '山腳斷層',\n",
       "  '斷層分類：': '第二類活動斷層',\n",
       "  '通過縣市：': '台北縣',\n",
       "  '未來50年規模6.5以上發生機率大於10%的斷層構造': '大甲斷層'},\n",
       " {'分區': '北部',\n",
       "  '標題': '湖口斷層',\n",
       "  '斷層分類：': '第二類活動斷層',\n",
       "  '通過縣市：': '桃園縣、新竹縣',\n",
       "  '未來50年規模6.5以上發生機率大於10%的斷層構造': '彰化斷層'},\n",
       " {'分區': '北部',\n",
       "  '標題': '新竹斷層',\n",
       "  '斷層分類：': '存疑性活動斷層',\n",
       "  '通過縣市：': '新竹市、新竹縣',\n",
       "  '未來50年規模6.5以上發生機率大於10%的斷層構造': '車籠埔斷層'},\n",
       " {'分區': '北部',\n",
       "  '標題': '新城斷層',\n",
       "  '斷層分類：': '第二類活動斷層',\n",
       "  '通過縣市：': '新竹縣、苗栗縣',\n",
       "  '未來50年規模6.5以上發生機率大於10%的斷層構造': '九芎坑斷層'},\n",
       " {'分區': '北部',\n",
       "  '標題': '獅潭斷層',\n",
       "  '斷層分類：': '第一類活動斷層',\n",
       "  '通過縣市：': '苗栗縣',\n",
       "  '未來50年規模6.5以上發生機率大於10%的斷層構造': '木屐寮斷層'},\n",
       " {'分區': '中部',\n",
       "  '標題': '三義斷層',\n",
       "  '斷層分類：': '第二類活動斷層',\n",
       "  '通過縣市：': '苗栗縣、台中縣',\n",
       "  '未來50年規模6.5以上發生機率大於10%的斷層構造': '六甲斷層'},\n",
       " {'分區': '中部',\n",
       "  '標題': '大甲斷層',\n",
       "  '斷層分類：': '第二類活動斷層',\n",
       "  '通過縣市：': '台中縣',\n",
       "  '未來50年規模6.5以上發生機率大於10%的斷層構造': '觸口斷層'},\n",
       " {'分區': '中部',\n",
       "  '標題': '鐵砧山斷層',\n",
       "  '斷層分類：': '第二類活動斷層',\n",
       "  '通過縣市：': '台中縣',\n",
       "  '未來50年規模6.5以上發生機率大於10%的斷層構造': '新化斷層'},\n",
       " {'分區': '中部',\n",
       "  '標題': '屯子腳斷層',\n",
       "  '斷層分類：': '第一類活動斷層',\n",
       "  '通過縣市：': '台中縣',\n",
       "  '未來50年規模6.5以上發生機率大於10%的斷層構造': '旗山斷層'},\n",
       " {'分區': '中部',\n",
       "  '標題': '彰化斷層',\n",
       "  '斷層分類：': '存疑性活動斷層',\n",
       "  '通過縣市：': '彰化縣',\n",
       "  '未來50年規模6.5以上發生機率大於10%的斷層構造': '恆春斷層'},\n",
       " {'分區': '中部',\n",
       "  '標題': '車籠埔斷層',\n",
       "  '斷層分類：': '第一類活動斷層',\n",
       "  '通過縣市：': '台中縣、台中市、南投縣',\n",
       "  '未來50年規模6.5以上發生機率大於10%的斷層構造': '米崙斷層'},\n",
       " {'分區': '中部',\n",
       "  '標題': '大茅埔－雙冬斷層',\n",
       "  '斷層分類：': '存疑性活動斷層',\n",
       "  '通過縣市：': '台中縣、南投縣',\n",
       "  '未來50年規模6.5以上發生機率大於10%的斷層構造': '嶺頂斷層'},\n",
       " {'分區': '中部',\n",
       "  '標題': '九芎坑斷層',\n",
       "  '斷層分類：': '存疑性活動斷層',\n",
       "  '通過縣市：': '雲林縣、嘉義縣',\n",
       "  '未來50年規模6.5以上發生機率大於10%的斷層構造': '瑞穗斷層'},\n",
       " {'分區': '西南部',\n",
       "  '標題': '梅山斷層',\n",
       "  '斷層分類：': '第一類活動斷層',\n",
       "  '通過縣市：': '嘉義縣',\n",
       "  '未來50年規模6.5以上發生機率大於10%的斷層構造': '玉里斷層'},\n",
       " {'分區': '西南部',\n",
       "  '標題': '大尖山斷層',\n",
       "  '斷層分類：': '第一類活動斷層',\n",
       "  '通過縣市：': '南投縣、雲林縣、嘉義縣',\n",
       "  '未來50年規模6.5以上發生機率大於10%的斷層構造': '池上斷層'},\n",
       " {'分區': '西南部',\n",
       "  '標題': '木屐寮斷層',\n",
       "  '斷層分類：': '存疑性活動斷層',\n",
       "  '通過縣市：': '台南縣',\n",
       "  '未來50年規模6.5以上發生機率大於10%的斷層構造': '鹿野斷層'},\n",
       " {'分區': '西南部',\n",
       "  '標題': '六甲斷層',\n",
       "  '斷層分類：': '存疑性活動斷層',\n",
       "  '通過縣市：': '台南縣',\n",
       "  '未來50年規模6.5以上發生機率大於10%的斷層構造': '利吉斷層'}]"
      ]
     },
     "execution_count": 19,
     "metadata": {},
     "output_type": "execute_result"
    }
   ],
   "source": [
    "data"
   ]
  },
  {
   "cell_type": "code",
   "execution_count": 2,
   "id": "3de7b072",
   "metadata": {},
   "outputs": [],
   "source": [
    "# 2.將json格式資料存入dict中\n",
    "d={\n",
    "    \"path1\":{\n",
    "        '賀伯':{\n",
    "            \"time\":\"85/7/29\",\n",
    "            '等級':'強颱',\n",
    "            \"農業損失\":147.8,\n",
    "            \"失蹤及死亡人數\":73\n",
    "            }\n",
    "        },\n",
    "    \"path2\":{\n",
    "        '提姆':{\n",
    "            \"time\":\"83/7/9\",\n",
    "            '等級':'強颱',\n",
    "            \"農業損失\":37.9,\n",
    "            \"失蹤及死亡人數\":23\n",
    "            },\n",
    "        '碧利斯':{\n",
    "            \"time\":\"89/8/21\",\n",
    "            '等級':'強颱',\n",
    "            \"農業損失\":69.8,\n",
    "            \"失蹤及死亡人數\":21\n",
    "            },\n",
    "        '桃芝':{\n",
    "            \"time\":\"90/7/28\",\n",
    "            '等級':'中颱',\n",
    "            \"農業損失\":80.5,\n",
    "            \"失蹤及死亡人數\":214\n",
    "            }\n",
    "        },\n",
    "    \"path3\":{\n",
    "        '杜鵑':{\n",
    "            \"time\":\"92/8/31\",\n",
    "            '等級':'中颱',\n",
    "            \"農業損失\":26.7,\n",
    "            \"失蹤及死亡人數\":3\n",
    "             }\n",
    "        },\n",
    "    'path4':{\n",
    "        '瑞伯':{\n",
    "            \"time\":\"87/10/13\",\n",
    "            '等級':'強颱',\n",
    "            \"農業損失\":61.7,\n",
    "            \"失蹤及死亡人數\":38\n",
    "            },\n",
    "        '道格':{\n",
    "            \"time\":\"83/8/9\",\n",
    "            '等級':'強颱',\n",
    "            \"農業損失\":34.4,\n",
    "            \"失蹤及死亡人數\":15\n",
    "        },\n",
    "        '象神':{\n",
    "            \"time\":\"89/10/29\",\n",
    "            '等級':'中颱',\n",
    "            \"農業損失\":49.0,\n",
    "            \"失蹤及死亡人數\":89\n",
    "        }\n",
    "    },\n",
    "    'path5':{},\n",
    "    \"path6\":{\n",
    "        '敏督利':{\n",
    "            \"time\":\"93/6/30\",\n",
    "            '等級':'中颱',\n",
    "            \"農業損失\":89.7,\n",
    "            \"失蹤及死亡人數\":41\n",
    "        }\n",
    "    },\n",
    "    'path7':{\n",
    "        '納莉':{\n",
    "            \"time\":\"90/9/15\",\n",
    "            '等級':'強颱',\n",
    "            \"農業損失\":49.0,\n",
    "            \"失蹤及死亡人數\":104\n",
    "        }\n",
    "    },\n",
    "    'path8':{},\n",
    "    'path9':{}\n",
    "}"
   ]
  },
  {
   "cell_type": "code",
   "execution_count": 4,
   "id": "7e988024",
   "metadata": {},
   "outputs": [
    {
     "data": {
      "text/plain": [
       "dict"
      ]
     },
     "execution_count": 4,
     "metadata": {},
     "output_type": "execute_result"
    }
   ],
   "source": [
    "# d資料格式為 dictionary\n",
    "type(d)"
   ]
  },
  {
   "cell_type": "code",
   "execution_count": 31,
   "id": "a030ef46",
   "metadata": {},
   "outputs": [
    {
     "name": "stdout",
     "output_type": "stream",
     "text": [
      "path1\n",
      "path2\n",
      "path3\n",
      "path4\n",
      "path5\n",
      "path6\n",
      "path7\n",
      "path8\n",
      "path9\n"
     ]
    }
   ],
   "source": [
    "#試驗看看d有幾層資料\n",
    "for n in d.items():\n",
    "    print(n[0])"
   ]
  },
  {
   "cell_type": "code",
   "execution_count": 6,
   "id": "cbff5001",
   "metadata": {},
   "outputs": [
    {
     "data": {
      "text/plain": [
       "dict_items([('path1', {'賀伯': {'time': '85/7/29', '等級': '強颱', '農業損失': 147.8, '失蹤及死亡人數': 73}}), ('path2', {'提姆': {'time': '83/7/9', '等級': '強颱', '農業損失': 37.9, '失蹤及死亡人數': 23}, '碧利斯': {'time': '89/8/21', '等級': '強颱', '農業損失': 69.8, '失蹤及死亡人數': 21}, '桃芝': {'time': '90/7/28', '等級': '中颱', '農業損失': 80.5, '失蹤及死亡人數': 214}}), ('path3', {'杜鵑': {'time': '92/8/31', '等級': '中颱', '農業損失': 26.7, '失蹤及死亡人數': 3}}), ('path4', {'瑞伯': {'time': '87/10/13', '等級': '強颱', '農業損失': 61.7, '失蹤及死亡人數': 38}, '道格': {'time': '83/8/9', '等級': '強颱', '農業損失': 34.4, '失蹤及死亡人數': 15}, '象神': {'time': '89/10/29', '等級': '中颱', '農業損失': 49.0, '失蹤及死亡人數': 89}}), ('path5', {}), ('path6', {'敏督利': {'time': '93/6/30', '等級': '中颱', '農業損失': 89.7, '失蹤及死亡人數': 41}}), ('path7', {'納莉': {'time': '90/9/15', '等級': '強颱', '農業損失': 49.0, '失蹤及死亡人數': 104}}), ('path8', {}), ('path9', {})])"
      ]
     },
     "execution_count": 6,
     "metadata": {},
     "output_type": "execute_result"
    }
   ],
   "source": [
    "# d 有多少內容\n",
    "d.items()"
   ]
  },
  {
   "cell_type": "code",
   "execution_count": 7,
   "id": "436355df",
   "metadata": {},
   "outputs": [
    {
     "data": {
      "text/plain": [
       "dict_values([{'賀伯': {'time': '85/7/29', '等級': '強颱', '農業損失': 147.8, '失蹤及死亡人數': 73}}, {'提姆': {'time': '83/7/9', '等級': '強颱', '農業損失': 37.9, '失蹤及死亡人數': 23}, '碧利斯': {'time': '89/8/21', '等級': '強颱', '農業損失': 69.8, '失蹤及死亡人數': 21}, '桃芝': {'time': '90/7/28', '等級': '中颱', '農業損失': 80.5, '失蹤及死亡人數': 214}}, {'杜鵑': {'time': '92/8/31', '等級': '中颱', '農業損失': 26.7, '失蹤及死亡人數': 3}}, {'瑞伯': {'time': '87/10/13', '等級': '強颱', '農業損失': 61.7, '失蹤及死亡人數': 38}, '道格': {'time': '83/8/9', '等級': '強颱', '農業損失': 34.4, '失蹤及死亡人數': 15}, '象神': {'time': '89/10/29', '等級': '中颱', '農業損失': 49.0, '失蹤及死亡人數': 89}}, {}, {'敏督利': {'time': '93/6/30', '等級': '中颱', '農業損失': 89.7, '失蹤及死亡人數': 41}}, {'納莉': {'time': '90/9/15', '等級': '強颱', '農業損失': 49.0, '失蹤及死亡人數': 104}}, {}, {}])"
      ]
     },
     "execution_count": 7,
     "metadata": {},
     "output_type": "execute_result"
    }
   ],
   "source": [
    "# d 有多少內容\n",
    "d.values()"
   ]
  },
  {
   "cell_type": "code",
   "execution_count": 8,
   "id": "d05a24f2",
   "metadata": {
    "scrolled": true
   },
   "outputs": [
    {
     "data": {
      "text/plain": [
       "dict_keys(['path1', 'path2', 'path3', 'path4', 'path5', 'path6', 'path7', 'path8', 'path9'])"
      ]
     },
     "execution_count": 8,
     "metadata": {},
     "output_type": "execute_result"
    }
   ],
   "source": [
    "# d 的關鍵字\n",
    "d.keys()"
   ]
  },
  {
   "cell_type": "code",
   "execution_count": 37,
   "id": "99af81ff",
   "metadata": {
    "scrolled": true
   },
   "outputs": [
    {
     "data": {
      "text/plain": [
       "646.5"
      ]
     },
     "execution_count": 37,
     "metadata": {},
     "output_type": "execute_result"
    }
   ],
   "source": [
    "# 3.將這些資料進行查詢及排序，寫上註解\n",
    "#颱風農業損失總金額\n",
    "Mtotal=d['path1']['賀伯']['農業損失']+d['path2']['提姆']['農業損失']+d['path2']['碧利斯']['農業損失']+d['path2']['桃芝']['農業損失']+d['path3']['杜鵑']['農業損失']+d['path4']['瑞伯']['農業損失']+d['path4']['道格']['農業損失']+d['path4']['象神']['農業損失']+d['path6']['敏督利']['農業損失']+d['path7']['納莉']['農業損失']\n",
    "Mtotal"
   ]
  },
  {
   "cell_type": "code",
   "execution_count": 42,
   "id": "d6090f68",
   "metadata": {},
   "outputs": [
    {
     "data": {
      "text/plain": [
       "[147.8, 37.9, 69.8, 80.5, 26.7, 61.7, 34.4, 49.0, 89.7, 49.0]"
      ]
     },
     "execution_count": 42,
     "metadata": {},
     "output_type": "execute_result"
    }
   ],
   "source": [
    "#list各颱風農業損失\n",
    "allMtotal=[d['path1']['賀伯']['農業損失'],d['path2']['提姆']['農業損失'],d['path2']['碧利斯']['農業損失'],d['path2']['桃芝']['農業損失'],d['path3']['杜鵑']['農業損失'],d['path4']['瑞伯']['農業損失'],d['path4']['道格']['農業損失'],d['path4']['象神']['農業損失'],d['path6']['敏督利']['農業損失'],d['path7']['納莉']['農業損失']]\n",
    "allMtotal"
   ]
  },
  {
   "cell_type": "code",
   "execution_count": 44,
   "id": "49527cc8",
   "metadata": {
    "scrolled": true
   },
   "outputs": [
    {
     "data": {
      "text/plain": [
       "[(1, 147.8),\n",
       " (9, 89.7),\n",
       " (4, 80.5),\n",
       " (3, 69.8),\n",
       " (6, 61.7),\n",
       " (8, 49.0),\n",
       " (10, 49.0),\n",
       " (2, 37.9),\n",
       " (7, 34.4),\n",
       " (5, 26.7)]"
      ]
     },
     "execution_count": 44,
     "metadata": {},
     "output_type": "execute_result"
    }
   ],
   "source": [
    "#各颱風農業損失總金額排序\n",
    "allMtotal_enumerate = enumerate(allMtotal, start = 1)\n",
    "allMtotal_enumerate_sorted = sorted(allMtotal_enumerate,key = lambda s: s[1], reverse = True)\n",
    "allMtotal_enumerate_sorted"
   ]
  },
  {
   "cell_type": "code",
   "execution_count": 46,
   "id": "6c65955d",
   "metadata": {},
   "outputs": [
    {
     "data": {
      "text/plain": [
       "[147.8, 188.2, 26.7, 145.1, 0, 41, 49.0, 0, 0]"
      ]
     },
     "execution_count": 46,
     "metadata": {},
     "output_type": "execute_result"
    }
   ],
   "source": [
    "#list各颱風路徑農業損失總金額排序\n",
    "path1_Mtotal=d['path1']['賀伯']['農業損失']\n",
    "path2_Mtotal=d['path2']['提姆']['農業損失']+d['path2']['碧利斯']['農業損失']+d['path2']['桃芝']['農業損失']\n",
    "path3_Mtotal=d['path3']['杜鵑']['農業損失']\n",
    "path4_Mtotal=d['path4']['瑞伯']['農業損失']+d['path4']['道格']['農業損失']+d['path4']['象神']['農業損失']\n",
    "path5_Mtotal=0\n",
    "path6_Mtotal=d['path6']['敏督利']['失蹤及死亡人數']\n",
    "path7_Mtotal=d['path7']['納莉']['農業損失']\n",
    "path8_Mtotal=0\n",
    "path9_Mtotal=0\n",
    "path__Mtotal=[path1_Mtotal,path2_Mtotal,path3_Mtotal,path4_Mtotal,path5_Mtotal,path6_Mtotal,path7_Mtotal,path8_Mtotal,path9_Mtotal]\n",
    "path__Mtotal"
   ]
  },
  {
   "cell_type": "code",
   "execution_count": 47,
   "id": "e0fb64c3",
   "metadata": {},
   "outputs": [
    {
     "data": {
      "text/plain": [
       "[(2, 188.2),\n",
       " (1, 147.8),\n",
       " (4, 145.1),\n",
       " (7, 49.0),\n",
       " (6, 41),\n",
       " (3, 26.7),\n",
       " (5, 0),\n",
       " (8, 0),\n",
       " (9, 0)]"
      ]
     },
     "execution_count": 47,
     "metadata": {},
     "output_type": "execute_result"
    }
   ],
   "source": [
    "#各颱風路徑農業損失總金額排序\n",
    "path__Mtotal_enumerate = enumerate(path__Mtotal, start = 1)\n",
    "path__Mtotal_enumerate_sorted = sorted(path__Mtotal_enumerate,key = lambda s: s[1], reverse = True)\n",
    "path__Mtotal_enumerate_sorted"
   ]
  },
  {
   "cell_type": "code",
   "execution_count": 51,
   "id": "0bb14e1c",
   "metadata": {},
   "outputs": [
    {
     "data": {
      "text/plain": [
       "621"
      ]
     },
     "execution_count": 51,
     "metadata": {},
     "output_type": "execute_result"
    }
   ],
   "source": [
    "#颱風失蹤及死亡總人數\n",
    "Ptotal=d['path1']['賀伯']['失蹤及死亡人數']+d['path2']['提姆']['失蹤及死亡人數']+d['path2']['碧利斯']['失蹤及死亡人數']+d['path2']['桃芝']['失蹤及死亡人數']+d['path3']['杜鵑']['失蹤及死亡人數']+d['path4']['瑞伯']['失蹤及死亡人數']+d['path4']['道格']['失蹤及死亡人數']+d['path4']['象神']['失蹤及死亡人數']+d['path6']['敏督利']['失蹤及死亡人數']+d['path7']['納莉']['失蹤及死亡人數']\n",
    "Ptotal"
   ]
  },
  {
   "cell_type": "code",
   "execution_count": 52,
   "id": "0a7c5f1f",
   "metadata": {},
   "outputs": [
    {
     "data": {
      "text/plain": [
       "[73, 23, 21, 214, 3, 38, 15, 89, 41, 104]"
      ]
     },
     "execution_count": 52,
     "metadata": {},
     "output_type": "execute_result"
    }
   ],
   "source": [
    "#list各颱風失蹤及死亡總人數\n",
    "allPtotal=[d['path1']['賀伯']['失蹤及死亡人數'],d['path2']['提姆']['失蹤及死亡人數'],d['path2']['碧利斯']['失蹤及死亡人數'],d['path2']['桃芝']['失蹤及死亡人數'],d['path3']['杜鵑']['失蹤及死亡人數'],d['path4']['瑞伯']['失蹤及死亡人數'],d['path4']['道格']['失蹤及死亡人數'],d['path4']['象神']['失蹤及死亡人數'],d['path6']['敏督利']['失蹤及死亡人數'],d['path7']['納莉']['失蹤及死亡人數']]\n",
    "allPtotal"
   ]
  },
  {
   "cell_type": "code",
   "execution_count": 53,
   "id": "0197dd46",
   "metadata": {},
   "outputs": [
    {
     "data": {
      "text/plain": [
       "[(4, 214),\n",
       " (10, 104),\n",
       " (8, 89),\n",
       " (1, 73),\n",
       " (9, 41),\n",
       " (6, 38),\n",
       " (2, 23),\n",
       " (3, 21),\n",
       " (7, 15),\n",
       " (5, 3)]"
      ]
     },
     "execution_count": 53,
     "metadata": {},
     "output_type": "execute_result"
    }
   ],
   "source": [
    "#各颱風失蹤及死亡總人數排序\n",
    "allPtotal_enumerate = enumerate(allPtotal, start = 1)\n",
    "allPtotal_enumerate_sorted = sorted(allPtotal_enumerate,key = lambda s: s[1], reverse = True)\n",
    "allPtotal_enumerate_sorted"
   ]
  },
  {
   "cell_type": "code",
   "execution_count": 55,
   "id": "713829a2",
   "metadata": {},
   "outputs": [
    {
     "data": {
      "text/plain": [
       "[147.8, 188.2, 26.7, 145.1, 0, 41, 49.0, 0, 0]"
      ]
     },
     "execution_count": 55,
     "metadata": {},
     "output_type": "execute_result"
    }
   ],
   "source": [
    "#list各颱風路徑失蹤及死亡總人數排序\n",
    "path1_Ptotal=d['path1']['賀伯']['農業損失']\n",
    "path2_Ptotal=d['path2']['提姆']['農業損失']+d['path2']['碧利斯']['農業損失']+d['path2']['桃芝']['農業損失']\n",
    "path3_Ptotal=d['path3']['杜鵑']['農業損失']\n",
    "path4_Ptotal=d['path4']['瑞伯']['農業損失']+d['path4']['道格']['農業損失']+d['path4']['象神']['農業損失']\n",
    "path5_Ptotal=0\n",
    "path6_Ptotal=d['path6']['敏督利']['失蹤及死亡人數']\n",
    "path7_Ptotal=d['path7']['納莉']['農業損失']\n",
    "path8_Ptotal=0\n",
    "path9_Ptotal=0\n",
    "path__Ptotal=[path1_Ptotal,path2_Ptotal,path3_Ptotal,path4_Ptotal,path5_Ptotal,path6_Ptotal,path7_Ptotal,path8_Ptotal,path9_Ptotal]\n",
    "path__Ptotal"
   ]
  },
  {
   "cell_type": "code",
   "execution_count": 56,
   "id": "617ab2ac",
   "metadata": {},
   "outputs": [
    {
     "data": {
      "text/plain": [
       "[(2, 188.2),\n",
       " (1, 147.8),\n",
       " (4, 145.1),\n",
       " (7, 49.0),\n",
       " (6, 41),\n",
       " (3, 26.7),\n",
       " (5, 0),\n",
       " (8, 0),\n",
       " (9, 0)]"
      ]
     },
     "execution_count": 56,
     "metadata": {},
     "output_type": "execute_result"
    }
   ],
   "source": [
    "#各颱風路徑農業損失總金額排序\n",
    "path__Ptotal_enumerate = enumerate(path__Ptotal, start = 1)\n",
    "path__Ptotal_enumerate_sorted = sorted(path__Ptotal_enumerate,key = lambda s: s[1], reverse = True)\n",
    "path__Ptotal_enumerate_sorted"
   ]
  },
  {
   "cell_type": "code",
   "execution_count": 54,
   "id": "ee37c3a8",
   "metadata": {
    "scrolled": true
   },
   "outputs": [
    {
     "name": "stdout",
     "output_type": "stream",
     "text": [
      "颱風資料\n",
      "請輸入颱風路徑 1.查看path1 2.查看path2 3.查看path3 4.查看path4 5.查看path5 6.查看path6 7.查看path7 8.查看path8 9.查看path9 10.查看各颱風農業損失總金額及排名 11.查看各颱風路徑農業損失總金額及排名 12.查看各颱風傷亡總人數及排名 13.查看各颱風路徑傷亡總人數及排名 14.結束程式12\n",
      "賀伯： 73 人\n",
      "提姆： 23 人\n",
      "碧利斯： 21 人\n",
      "桃芝： 214 人\n",
      "杜鵑： 3 人\n",
      "瑞伯： 38 人\n",
      "道格： 15 人\n",
      "象神： 89 人\n",
      "敏督利： 41 人\n",
      "納莉： 104 人\n",
      "所有颱風造成失蹤及死亡人數 621 人\n",
      "賀伯為1，提姆為2，碧利斯為3，桃芝為4，杜鵑為5，瑞伯為6，道格為7，象神為8，敏督利為9，納莉為10\n",
      "(颱風,失蹤及死亡人數(人))(多->少）\n",
      "[(4, 214), (10, 104), (8, 89), (1, 73), (9, 41), (6, 38), (2, 23), (3, 21), (7, 15), (5, 3)]\n",
      "請輸入颱風路徑 1.查看path1 2.查看path2 3.查看path3 4.查看path4 5.查看path5 6.查看path6 7.查看path7 8.查看path8 9.查看path9 10.查看各颱風農業損失總金額及排名 11.查看各颱風路徑農業損失總金額及排名 12.查看各颱風傷亡總人數及排名 13.查看各颱風路徑傷亡總人數及排名 14.結束程式14\n",
      "結束程式!掰掰!\n"
     ]
    }
   ],
   "source": [
    "print('颱風資料')\n",
    "while True:\n",
    "    s=input(\"請輸入颱風路徑 1.查看path1 2.查看path2 3.查看path3 4.查看path4 5.查看path5 6.查看path6 7.查看path7 8.查看path8 9.查看path9 10.查看各颱風農業損失總金額及排名 11.查看各颱風路徑農業損失總金額及排名 12.查看各颱風傷亡總人數及排名 13.查看各颱風路徑傷亡總人數及排名 14.結束程式\")\n",
    "    if s=='1':\n",
    "        temp = d.get('path1')\n",
    "        print(temp)\n",
    "    elif s=='2':\n",
    "        temp = d.get('path2')\n",
    "        print(temp)\n",
    "    elif s=='3':\n",
    "        temp = d.get('path3')\n",
    "        print(temp)\n",
    "    elif s=='4':\n",
    "        temp = d.get('path4')\n",
    "        print(temp)\n",
    "    elif s=='5':\n",
    "        print('沒有颱風')\n",
    "    elif s=='6':\n",
    "        temp = d.get('path6')\n",
    "        print(temp)\n",
    "    elif s=='7':\n",
    "        temp = d.get('path7')\n",
    "        print(temp)\n",
    "    elif s=='8':\n",
    "        print('沒有颱風')\n",
    "    elif s=='9':\n",
    "        print('沒有颱風')\n",
    "    elif s=='10':\n",
    "        print('賀伯：',d['path1']['賀伯']['農業損失'],'億元')\n",
    "        print('提姆：',d['path2']['提姆']['農業損失'],'億元')\n",
    "        print('碧利斯：',d['path2']['碧利斯']['農業損失'],'億元')\n",
    "        print('桃芝：',d['path2']['桃芝']['農業損失'],'億元')\n",
    "        print('杜鵑：',d['path3']['杜鵑']['農業損失'],'億元')\n",
    "        print('瑞伯：',d['path4']['瑞伯']['農業損失'],'億元')\n",
    "        print('道格：',d['path4']['道格']['農業損失'],'億元')\n",
    "        print('象神：',d['path4']['象神']['農業損失'],'億元')\n",
    "        print('敏督利：',d['path6']['敏督利']['農業損失'],'億元')\n",
    "        print('納莉：',d['path7']['納莉']['農業損失'],'億元')\n",
    "        print(\"所有颱風造成農業損失\",Mtotal,'億元')\n",
    "        print('賀伯為1，提姆為2，碧利斯為3，桃芝為4，杜鵑為5，瑞伯為6，道格為7，象神為8，敏督利為9，納莉為10')\n",
    "        print('(颱風,農業損失金額(億元))(多->少）')\n",
    "        print(allMtotal_enumerate_sorted)\n",
    "    elif s=='11':\n",
    "        print('path1造成農業損失金額共：',path1_Mtotal,'億元')\n",
    "        print('path2造成農業損失金額共：',path2_Mtotal,'億元')\n",
    "        print('path3造成農業損失金額共：',path3_Mtotal,'億元')\n",
    "        print('path4造成農業損失金額共：',path4_Mtotal,'億元')\n",
    "        print('path5造成農業損失金額共：',path5_Mtotal,'億元')\n",
    "        print('path6造成農業損失金額共：',path6_Mtotal,'億元')\n",
    "        print('path7造成農業損失金額共：',path7_Mtotal,'億元')\n",
    "        print('path8造成農業損失金額共：',path8_Mtotal,'億元')\n",
    "        print('path9造成農業損失金額共：',path9_Mtotal,'億元')\n",
    "        print('各颱風路徑排序：(颱風路徑,農業損失金額(億元))(多->少）')\n",
    "        print(path__Mtotal_enumerate_sorted)\n",
    "        print('可知颱風路徑二造成農損最嚴重')\n",
    "    elif s=='12':\n",
    "        print('賀伯：',d['path1']['賀伯']['失蹤及死亡人數'],'人')\n",
    "        print('提姆：',d['path2']['提姆']['失蹤及死亡人數'],'人')\n",
    "        print('碧利斯：',d['path2']['碧利斯']['失蹤及死亡人數'],'人')\n",
    "        print('桃芝：',d['path2']['桃芝']['失蹤及死亡人數'],'人')\n",
    "        print('杜鵑：',d['path3']['杜鵑']['失蹤及死亡人數'],'人')\n",
    "        print('瑞伯：',d['path4']['瑞伯']['失蹤及死亡人數'],'人')\n",
    "        print('道格：',d['path4']['道格']['失蹤及死亡人數'],'人')\n",
    "        print('象神：',d['path4']['象神']['失蹤及死亡人數'],'人')\n",
    "        print('敏督利：',d['path6']['敏督利']['失蹤及死亡人數'],'人')\n",
    "        print('納莉：',d['path7']['納莉']['失蹤及死亡人數'],'人')\n",
    "        print(\"所有颱風造成失蹤及死亡人數\",Ptotal,'人')\n",
    "        print('賀伯為1，提姆為2，碧利斯為3，桃芝為4，杜鵑為5，瑞伯為6，道格為7，象神為8，敏督利為9，納莉為10')\n",
    "        print('(颱風,失蹤及死亡人數(人))(多->少）')\n",
    "        print(allPtotal_enumerate_sorted)\n",
    "    elif s=='13':\n",
    "        print('path1造成失蹤及死亡人數共：',path1_Ptotal,'人')\n",
    "        print('path2造成失蹤及死亡人數共：',path2_Ptotal,'人')\n",
    "        print('path3造成失蹤及死亡人數共：',path3_Ptotal,'人')\n",
    "        print('path4造成失蹤及死亡人數共：',path4_Ptotal,'人')\n",
    "        print('path5造成失蹤及死亡人數共：',path5_Ptotal,'人')\n",
    "        print('path6造成失蹤及死亡人數共：',path6_Ptotal,'人')\n",
    "        print('path7造成失蹤及死亡人數共：',path7_Ptotal,'人')\n",
    "        print('path8造成失蹤及死亡人數共：',path8_Ptotal,'人')\n",
    "        print('path9造成失蹤及死亡人數共：',path9_Ptotal,'人')\n",
    "        print('各颱風路徑排序：(颱風路徑,失蹤及死亡人數(人))(多->少）')\n",
    "        print(path__Ptotal_enumerate_sorted)\n",
    "        print('可知颱風路徑二造成人員傷亡最嚴重')\n",
    "    elif s=='14':\n",
    "        print('結束程式!掰掰!')\n",
    "        break\n",
    "    else:\n",
    "        print('輸入錯誤，請重新輸入')\n",
    "        continue"
   ]
  },
  {
   "cell_type": "code",
   "execution_count": 18,
   "id": "05de4873",
   "metadata": {},
   "outputs": [],
   "source": [
    "#透過 https://jsoncrack.com/editor 整理 d=>d1，再試做一遍作業\n",
    "d1={\n",
    "  \"path1\": {\n",
    "    \"name\": \"賀伯\",\n",
    "    \"time\": \"85/7/29\",\n",
    "    \"等級\": \"強颱\",\n",
    "    \"農業損失\": 147.8,\n",
    "    \"失蹤及死亡人數\": 73\n",
    "  },\n",
    "  \"path2\": \n",
    "    [{\n",
    "      \"name\": \"提姆\",\n",
    "      \"time\": \"83/7/9\",\n",
    "      \"等級\": \"強颱\",\n",
    "      \"農業損失\": 37.9,\n",
    "      \"失蹤及死亡人數\": 23\n",
    "    },\n",
    "    {\n",
    "      \"name\": \"碧利斯\",\n",
    "      \"time\": \"89/8/21\",\n",
    "      \"等級\": \"強颱\",\n",
    "      \"農業損失\": 69.8,\n",
    "      \"失蹤及死亡人數\": 21\n",
    "    },\n",
    "    {\n",
    "      \"name\": \"桃芝\",\n",
    "      \"time\": \"90/7/28\",\n",
    "      \"等級\": \"中颱\",\n",
    "      \"農業損失\": 80.5,\n",
    "      \"失蹤及死亡人數\": 214\n",
    "    }\n",
    "  ],\n",
    "  \"path3\": {\n",
    "    \"name\": \"杜鵑\",\n",
    "    \"time\": \"92/8/31\",\n",
    "    \"等級\": \"中颱\",\n",
    "    \"農業損失\": 26.7,\n",
    "    \"失蹤及死亡人數\": 3\n",
    "  },\n",
    "  \"path4\": [\n",
    "    {\n",
    "      \"name\": \"瑞伯\",\n",
    "      \"time\": \"87/10/13\",\n",
    "      \"等級\": \"強颱\",\n",
    "      \"農業損失\": 61.7,\n",
    "      \"失蹤及死亡人數\": 38\n",
    "    },\n",
    "    {\n",
    "      \"name\": \"道格\",\n",
    "      \"time\": \"83/8/9\",\n",
    "      \"等級\": \"強颱\",\n",
    "      \"農業損失\": 34.4,\n",
    "      \"失蹤及死亡人數\": 15\n",
    "    },\n",
    "    {\n",
    "      \"name\": \"象神\",\n",
    "      \"time\": \"89/10/29\",\n",
    "      \"等級\": \"中颱\",\n",
    "      \"農業損失\": 49,\n",
    "      \"失蹤及死亡人數\": 89\n",
    "    }\n",
    "  ],\n",
    "  \"path5\": {},\n",
    "  \"path6\": {\n",
    "    \"name\": \"敏督利\",\n",
    "    \"time\": \"93/6/30\",\n",
    "    \"等級\": \"中颱\",\n",
    "    \"農業損失\": 89.7,\n",
    "    \"失蹤及死亡人數\": 41\n",
    "  },\n",
    "  \"path7\": {\n",
    "    \"name\": \"納莉\",\n",
    "    \"time\": \"90/9/15\",\n",
    "    \"等級\": \"強颱\",\n",
    "    \"農業損失\": 49,\n",
    "    \"失蹤及死亡人數\": 104\n",
    "  },\n",
    "  \"path8\": {},\n",
    "  \"path9\": {}\n",
    "}"
   ]
  },
  {
   "cell_type": "code",
   "execution_count": 19,
   "id": "9292aa94",
   "metadata": {},
   "outputs": [
    {
     "data": {
      "text/plain": [
       "dict"
      ]
     },
     "execution_count": 19,
     "metadata": {},
     "output_type": "execute_result"
    }
   ],
   "source": [
    "type(d1)"
   ]
  },
  {
   "cell_type": "code",
   "execution_count": 20,
   "id": "043ceb1a",
   "metadata": {},
   "outputs": [
    {
     "name": "stdout",
     "output_type": "stream",
     "text": [
      "path1\n",
      "path2\n",
      "path3\n",
      "path4\n",
      "path5\n",
      "path6\n",
      "path7\n",
      "path8\n",
      "path9\n"
     ]
    }
   ],
   "source": [
    "for n in d1.items():\n",
    "    print(n[0])"
   ]
  },
  {
   "cell_type": "code",
   "execution_count": 21,
   "id": "b3b9ed9b",
   "metadata": {
    "scrolled": true
   },
   "outputs": [
    {
     "data": {
      "text/plain": [
       "dict_values([{'name': '賀伯', 'time': '85/7/29', '等級': '強颱', '農業損失': 147.8, '失蹤及死亡人數': 73}, [{'name': '提姆', 'time': '83/7/9', '等級': '強颱', '農業損失': 37.9, '失蹤及死亡人數': 23}, {'name': '碧利斯', 'time': '89/8/21', '等級': '強颱', '農業損失': 69.8, '失蹤及死亡人數': 21}, {'name': '桃芝', 'time': '90/7/28', '等級': '中颱', '農業損失': 80.5, '失蹤及死亡人數': 214}], {'name': '杜鵑', 'time': '92/8/31', '等級': '中颱', '農業損失': 26.7, '失蹤及死亡人數': 3}, [{'name': '瑞伯', 'time': '87/10/13', '等級': '強颱', '農業損失': 61.7, '失蹤及死亡人數': 38}, {'name': '道格', 'time': '83/8/9', '等級': '強颱', '農業損失': 34.4, '失蹤及死亡人數': 15}, {'name': '象神', 'time': '89/10/29', '等級': '中颱', '農業損失': 49, '失蹤及死亡人數': 89}], {}, {'name': '敏督利', 'time': '93/6/30', '等級': '中颱', '農業損失': 89.7, '失蹤及死亡人數': 41}, {'name': '納莉', 'time': '90/9/15', '等級': '強颱', '農業損失': 49, '失蹤及死亡人數': 104}, {}, {}])"
      ]
     },
     "execution_count": 21,
     "metadata": {},
     "output_type": "execute_result"
    }
   ],
   "source": [
    "d1.values()"
   ]
  },
  {
   "cell_type": "code",
   "execution_count": 22,
   "id": "cb5657b7",
   "metadata": {},
   "outputs": [
    {
     "data": {
      "text/plain": [
       "dict_keys(['path1', 'path2', 'path3', 'path4', 'path5', 'path6', 'path7', 'path8', 'path9'])"
      ]
     },
     "execution_count": 22,
     "metadata": {},
     "output_type": "execute_result"
    }
   ],
   "source": [
    "d1.keys()"
   ]
  },
  {
   "cell_type": "code",
   "execution_count": 23,
   "id": "90ef444d",
   "metadata": {},
   "outputs": [
    {
     "data": {
      "text/plain": [
       "646.5"
      ]
     },
     "execution_count": 23,
     "metadata": {},
     "output_type": "execute_result"
    }
   ],
   "source": [
    "# 3.將這些資料進行查詢及排序，寫上註解\n",
    "#颱風農業損失總金額\n",
    "NMtotal=d1['path1']['農業損失']+d1['path2'][0]['農業損失']+d1['path2'][1]['農業損失']+d1['path2'][2]['農業損失']+d1['path3']['農業損失']+d1['path4'][0]['農業損失']+d1['path4'][1]['農業損失']+d1['path4'][2]['農業損失']+d1['path6']['農業損失']+d1['path7']['農業損失']\n",
    "NMtotal"
   ]
  },
  {
   "cell_type": "code",
   "execution_count": 24,
   "id": "d60648f4",
   "metadata": {},
   "outputs": [
    {
     "data": {
      "text/plain": [
       "[147.8, 37.9, 69.8, 80.5, 26.7, 61.7, 34.4, 49, 89.7, 49]"
      ]
     },
     "execution_count": 24,
     "metadata": {},
     "output_type": "execute_result"
    }
   ],
   "source": [
    "#list各颱風農業損失\n",
    "allNMtotal=[d1['path1']['農業損失'],d1['path2'][0]['農業損失'],d1['path2'][1]['農業損失'],d1['path2'][2]['農業損失'],d1['path3']['農業損失'],d1['path4'][0]['農業損失'],d1['path4'][1]['農業損失'],d1['path4'][2]['農業損失'],d1['path6']['農業損失'],d1['path7']['農業損失']]\n",
    "allNMtotal"
   ]
  },
  {
   "cell_type": "code",
   "execution_count": 25,
   "id": "c323f330",
   "metadata": {},
   "outputs": [
    {
     "data": {
      "text/plain": [
       "[(1, 147.8),\n",
       " (9, 89.7),\n",
       " (4, 80.5),\n",
       " (3, 69.8),\n",
       " (6, 61.7),\n",
       " (8, 49),\n",
       " (10, 49),\n",
       " (2, 37.9),\n",
       " (7, 34.4),\n",
       " (5, 26.7)]"
      ]
     },
     "execution_count": 25,
     "metadata": {},
     "output_type": "execute_result"
    }
   ],
   "source": [
    "#各颱風農業損失總金額排序\n",
    "allNMtotal_enumerate = enumerate(allNMtotal, start = 1)\n",
    "allNMtotal_enumerate_sorted = sorted(allNMtotal_enumerate,key = lambda s: s[1], reverse = True)\n",
    "allNMtotal_enumerate_sorted"
   ]
  },
  {
   "cell_type": "code",
   "execution_count": 26,
   "id": "d05671c8",
   "metadata": {},
   "outputs": [
    {
     "data": {
      "text/plain": [
       "[147.8, 188.2, 26.7, 145.1, 0, 89.7, 49, 0, 0]"
      ]
     },
     "execution_count": 26,
     "metadata": {},
     "output_type": "execute_result"
    }
   ],
   "source": [
    "#list各颱風路徑農業損失總金額排序\n",
    "path1_NMtotal=d1['path1']['農業損失']\n",
    "path2_NMtotal=d1['path2'][0]['農業損失']+d1['path2'][1]['農業損失']+d1['path2'][2]['農業損失']\n",
    "path3_NMtotal=d1['path3']['農業損失']\n",
    "path4_NMtotal=d1['path4'][0]['農業損失']+d1['path4'][1]['農業損失']+d1['path4'][2]['農業損失']\n",
    "path5_NMtotal=0\n",
    "path6_NMtotal=d1['path6']['農業損失']\n",
    "path7_NMtotal=d1['path7']['農業損失']\n",
    "path8_NMtotal=0\n",
    "path9_NMtotal=0\n",
    "path__NMtotal=[path1_NMtotal,path2_NMtotal,path3_NMtotal,path4_NMtotal,path5_NMtotal,path6_NMtotal,path7_NMtotal,path8_NMtotal,path9_NMtotal]\n",
    "path__NMtotal"
   ]
  },
  {
   "cell_type": "code",
   "execution_count": 27,
   "id": "2318067b",
   "metadata": {},
   "outputs": [
    {
     "data": {
      "text/plain": [
       "[(2, 188.2),\n",
       " (1, 147.8),\n",
       " (4, 145.1),\n",
       " (6, 89.7),\n",
       " (7, 49),\n",
       " (3, 26.7),\n",
       " (5, 0),\n",
       " (8, 0),\n",
       " (9, 0)]"
      ]
     },
     "execution_count": 27,
     "metadata": {},
     "output_type": "execute_result"
    }
   ],
   "source": [
    "#各颱風路徑農業損失總金額排序\n",
    "path__NMtotal_enumerate = enumerate(path__NMtotal, start = 1)\n",
    "path__NMtotal_enumerate_sorted = sorted(path__NMtotal_enumerate,key = lambda s: s[1], reverse = True)\n",
    "path__NMtotal_enumerate_sorted"
   ]
  },
  {
   "cell_type": "code",
   "execution_count": 28,
   "id": "1340d9a9",
   "metadata": {},
   "outputs": [
    {
     "data": {
      "text/plain": [
       "621"
      ]
     },
     "execution_count": 28,
     "metadata": {},
     "output_type": "execute_result"
    }
   ],
   "source": [
    "#颱風失蹤及死亡總人數\n",
    "NPtotal=d1['path1']['失蹤及死亡人數']+d1['path2'][0]['失蹤及死亡人數']+d1['path2'][1]['失蹤及死亡人數']+d1['path2'][2]['失蹤及死亡人數']+d1['path3']['失蹤及死亡人數']+d1['path4'][0]['失蹤及死亡人數']+d1['path4'][1]['失蹤及死亡人數']+d1['path4'][2]['失蹤及死亡人數']+d1['path6']['失蹤及死亡人數']+d1['path7']['失蹤及死亡人數']\n",
    "NPtotal"
   ]
  },
  {
   "cell_type": "code",
   "execution_count": 29,
   "id": "b9821918",
   "metadata": {},
   "outputs": [
    {
     "data": {
      "text/plain": [
       "[73, 23, 21, 214, 3, 38, 15, 89, 41, 104]"
      ]
     },
     "execution_count": 29,
     "metadata": {},
     "output_type": "execute_result"
    }
   ],
   "source": [
    "#list各颱風失蹤及死亡總人數\n",
    "allNPtotal=[d1['path1']['失蹤及死亡人數'],d1['path2'][0]['失蹤及死亡人數'],d1['path2'][1]['失蹤及死亡人數'],d1['path2'][2]['失蹤及死亡人數'],d1['path3']['失蹤及死亡人數'],d1['path4'][0]['失蹤及死亡人數'],d1['path4'][1]['失蹤及死亡人數'],d1['path4'][2]['失蹤及死亡人數'],d1['path6']['失蹤及死亡人數'],d1['path7']['失蹤及死亡人數']]\n",
    "allNPtotal"
   ]
  },
  {
   "cell_type": "code",
   "execution_count": 30,
   "id": "4ebffb85",
   "metadata": {},
   "outputs": [
    {
     "data": {
      "text/plain": [
       "[(4, 214),\n",
       " (10, 104),\n",
       " (8, 89),\n",
       " (1, 73),\n",
       " (9, 41),\n",
       " (6, 38),\n",
       " (2, 23),\n",
       " (3, 21),\n",
       " (7, 15),\n",
       " (5, 3)]"
      ]
     },
     "execution_count": 30,
     "metadata": {},
     "output_type": "execute_result"
    }
   ],
   "source": [
    "#各颱風失蹤及死亡總人數排序\n",
    "allNPtotal_enumerate = enumerate(allNPtotal, start = 1)\n",
    "allNPtotal_enumerate_sorted = sorted(allNPtotal_enumerate,key = lambda s: s[1], reverse = True)\n",
    "allNPtotal_enumerate_sorted"
   ]
  },
  {
   "cell_type": "code",
   "execution_count": 31,
   "id": "9c3b6e56",
   "metadata": {},
   "outputs": [
    {
     "data": {
      "text/plain": [
       "[73, 258, 3, 142, 0, 41, 104, 0, 0]"
      ]
     },
     "execution_count": 31,
     "metadata": {},
     "output_type": "execute_result"
    }
   ],
   "source": [
    "#list各颱風路徑失蹤及死亡總人數排序\n",
    "path1_NPtotal=d1['path1']['失蹤及死亡人數']\n",
    "path2_NPtotal=+d1['path2'][0]['失蹤及死亡人數']+d1['path2'][1]['失蹤及死亡人數']+d1['path2'][2]['失蹤及死亡人數']\n",
    "path3_NPtotal=d1['path3']['失蹤及死亡人數']\n",
    "path4_NPtotal=d1['path4'][0]['失蹤及死亡人數']+d1['path4'][1]['失蹤及死亡人數']+d1['path4'][2]['失蹤及死亡人數']\n",
    "path5_NPtotal=0\n",
    "path6_NPtotal=d1['path6']['失蹤及死亡人數']\n",
    "path7_NPtotal=d1['path7']['失蹤及死亡人數']\n",
    "path8_NPtotal=0\n",
    "path9_NPtotal=0\n",
    "path__NPtotal=[path1_NPtotal,path2_NPtotal,path3_NPtotal,path4_NPtotal,path5_NPtotal,path6_NPtotal,path7_NPtotal,path8_NPtotal,path9_NPtotal]\n",
    "path__NPtotal"
   ]
  },
  {
   "cell_type": "code",
   "execution_count": 32,
   "id": "fc9fa511",
   "metadata": {},
   "outputs": [
    {
     "data": {
      "text/plain": [
       "[(2, 258),\n",
       " (4, 142),\n",
       " (7, 104),\n",
       " (1, 73),\n",
       " (6, 41),\n",
       " (3, 3),\n",
       " (5, 0),\n",
       " (8, 0),\n",
       " (9, 0)]"
      ]
     },
     "execution_count": 32,
     "metadata": {},
     "output_type": "execute_result"
    }
   ],
   "source": [
    "#各颱風路徑農業損失總金額排序\n",
    "path__NPtotal_enumerate = enumerate(path__NPtotal, start = 1)\n",
    "path__NPtotal_enumerate_sorted = sorted(path__NPtotal_enumerate,key = lambda s: s[1], reverse = True)\n",
    "path__NPtotal_enumerate_sorted"
   ]
  },
  {
   "cell_type": "code",
   "execution_count": 35,
   "id": "ef98575a",
   "metadata": {},
   "outputs": [
    {
     "name": "stdout",
     "output_type": "stream",
     "text": [
      "颱風資料\n",
      "請輸入颱風路徑 1.查看path1 2.查看path2 3.查看path3 4.查看path4 5.查看path5 6.查看path6 7.查看path7 8.查看path8 9.查看path9 10.查看各颱風農業損失總金額及排名 11.查看各颱風路徑農業損失總金額及排名 12.查看各颱風傷亡總人數及排名 13.查看各颱風路徑傷亡總人數及排名 14.結束程式12\n",
      "賀伯： 73 人\n",
      "提姆： 23 人\n",
      "碧利斯： 21 人\n",
      "桃芝： 214 人\n",
      "杜鵑： 3 人\n",
      "瑞伯： 38 人\n",
      "道格： 15 人\n",
      "象神： 89 人\n",
      "敏督利： 41 人\n",
      "納莉： 104 人\n",
      "所有颱風造成失蹤及死亡人數 621 人\n",
      "賀伯為1，提姆為2，碧利斯為3，桃芝為4，杜鵑為5，瑞伯為6，道格為7，象神為8，敏督利為9，納莉為10\n",
      "(颱風,失蹤及死亡人數(人))(多->少）\n",
      "[(4, 214), (10, 104), (8, 89), (1, 73), (9, 41), (6, 38), (2, 23), (3, 21), (7, 15), (5, 3)]\n",
      "請輸入颱風路徑 1.查看path1 2.查看path2 3.查看path3 4.查看path4 5.查看path5 6.查看path6 7.查看path7 8.查看path8 9.查看path9 10.查看各颱風農業損失總金額及排名 11.查看各颱風路徑農業損失總金額及排名 12.查看各颱風傷亡總人數及排名 13.查看各颱風路徑傷亡總人數及排名 14.結束程式13\n",
      "path1造成失蹤及死亡人數共： 73 人\n",
      "path2造成失蹤及死亡人數共： 258 人\n",
      "path3造成失蹤及死亡人數共： 3 人\n",
      "path4造成失蹤及死亡人數共： 142 人\n",
      "path5造成失蹤及死亡人數共： 0 人\n",
      "path6造成失蹤及死亡人數共： 41 人\n",
      "path7造成失蹤及死亡人數共： 104 人\n",
      "path8造成失蹤及死亡人數共： 0 人\n",
      "path9造成失蹤及死亡人數共： 0 人\n",
      "各颱風路徑排序：(颱風路徑,失蹤及死亡人數(人))(多->少）\n",
      "[(2, 258), (4, 142), (7, 104), (1, 73), (6, 41), (3, 3), (5, 0), (8, 0), (9, 0)]\n",
      "可知颱風路徑二造成人員傷亡最嚴重\n",
      "請輸入颱風路徑 1.查看path1 2.查看path2 3.查看path3 4.查看path4 5.查看path5 6.查看path6 7.查看path7 8.查看path8 9.查看path9 10.查看各颱風農業損失總金額及排名 11.查看各颱風路徑農業損失總金額及排名 12.查看各颱風傷亡總人數及排名 13.查看各颱風路徑傷亡總人數及排名 14.結束程式14\n",
      "結束程式!掰掰!\n"
     ]
    }
   ],
   "source": [
    "print('颱風資料')\n",
    "while True:\n",
    "    s=input(\"請輸入颱風路徑 1.查看path1 2.查看path2 3.查看path3 4.查看path4 5.查看path5 6.查看path6 7.查看path7 8.查看path8 9.查看path9 10.查看各颱風農業損失總金額及排名 11.查看各颱風路徑農業損失總金額及排名 12.查看各颱風傷亡總人數及排名 13.查看各颱風路徑傷亡總人數及排名 14.結束程式\")\n",
    "    if s=='1':\n",
    "        temp = d1.get('path1')\n",
    "        print(temp)\n",
    "    elif s=='2':\n",
    "        temp = d1.get('path2')\n",
    "        print(temp)\n",
    "    elif s=='3':\n",
    "        temp = d1.get('path3')\n",
    "        print(temp)\n",
    "    elif s=='4':\n",
    "        temp = d1.get('path4')\n",
    "        print(temp)\n",
    "    elif s=='5':\n",
    "        print('沒有颱風')\n",
    "    elif s=='6':\n",
    "        temp = d1.get('path6')\n",
    "        print(temp)\n",
    "    elif s=='7':\n",
    "        temp = d1.get('path7')\n",
    "        print(temp)\n",
    "    elif s=='8':\n",
    "        print('沒有颱風')\n",
    "    elif s=='9':\n",
    "        print('沒有颱風')\n",
    "    elif s=='10':\n",
    "        print('賀伯：',d1['path1']['農業損失'],'億元')\n",
    "        print('提姆：',d1['path2'][0]['農業損失'],'億元')\n",
    "        print('碧利斯：',d1['path2'][1]['農業損失'],'億元')\n",
    "        print('桃芝：',d1['path2'][2]['農業損失'],'億元')\n",
    "        print('杜鵑：',d1['path3']['農業損失'],'億元')\n",
    "        print('瑞伯：',d1['path4'][0]['農業損失'],'億元')\n",
    "        print('道格：',d1['path4'][1]['農業損失'],'億元')\n",
    "        print('象神：',d1['path4'][2]['農業損失'],'億元')\n",
    "        print('敏督利：',d1['path6']['農業損失'],'億元')\n",
    "        print('納莉：',d1['path7']['農業損失'],'億元')\n",
    "        print(\"所有颱風造成農業損失\",NMtotal,'億元')\n",
    "        print('賀伯為1，提姆為2，碧利斯為3，桃芝為4，杜鵑為5，瑞伯為6，道格為7，象神為8，敏督利為9，納莉為10')\n",
    "        print('(颱風,農業損失金額(億元))(多->少）')\n",
    "        print(allNMtotal_enumerate_sorted)\n",
    "    elif s=='11':\n",
    "        print('path1造成農業損失金額共：',path1_NMtotal,'億元')\n",
    "        print('path2造成農業損失金額共：',path2_NMtotal,'億元')\n",
    "        print('path3造成農業損失金額共：',path3_NMtotal,'億元')\n",
    "        print('path4造成農業損失金額共：',path4_NMtotal,'億元')\n",
    "        print('path5造成農業損失金額共：',path5_NMtotal,'億元')\n",
    "        print('path6造成農業損失金額共：',path6_NMtotal,'億元')\n",
    "        print('path7造成農業損失金額共：',path7_NMtotal,'億元')\n",
    "        print('path8造成農業損失金額共：',path8_NMtotal,'億元')\n",
    "        print('path9造成農業損失金額共：',path9_NMtotal,'億元')\n",
    "        print('各颱風路徑排序：(颱風路徑,農業損失金額(億元))(多->少）')\n",
    "        print(path__NMtotal_enumerate_sorted)\n",
    "        print('可知颱風路徑二造成農損最嚴重')\n",
    "    elif s=='12':\n",
    "        print('賀伯：',d1['path1']['失蹤及死亡人數'],'人')\n",
    "        print('提姆：',d1['path2'][0]['失蹤及死亡人數'],'人')\n",
    "        print('碧利斯：',d1['path2'][1]['失蹤及死亡人數'],'人')\n",
    "        print('桃芝：',d1['path2'][2]['失蹤及死亡人數'],'人')\n",
    "        print('杜鵑：',d1['path3']['失蹤及死亡人數'],'人')\n",
    "        print('瑞伯：',d1['path4'][0]['失蹤及死亡人數'],'人')\n",
    "        print('道格：',d1['path4'][1]['失蹤及死亡人數'],'人')\n",
    "        print('象神：',d1['path4'][2]['失蹤及死亡人數'],'人')\n",
    "        print('敏督利：',d1['path6']['失蹤及死亡人數'],'人')\n",
    "        print('納莉：',d1['path7']['失蹤及死亡人數'],'人')\n",
    "        print(\"所有颱風造成失蹤及死亡人數\",NPtotal,'人')\n",
    "        print('賀伯為1，提姆為2，碧利斯為3，桃芝為4，杜鵑為5，瑞伯為6，道格為7，象神為8，敏督利為9，納莉為10')\n",
    "        print('(颱風,失蹤及死亡人數(人))(多->少）')\n",
    "        print(allNPtotal_enumerate_sorted)\n",
    "    elif s=='13':\n",
    "        print('path1造成失蹤及死亡人數共：',path1_NPtotal,'人')\n",
    "        print('path2造成失蹤及死亡人數共：',path2_NPtotal,'人')\n",
    "        print('path3造成失蹤及死亡人數共：',path3_NPtotal,'人')\n",
    "        print('path4造成失蹤及死亡人數共：',path4_NPtotal,'人')\n",
    "        print('path5造成失蹤及死亡人數共：',path5_NPtotal,'人')\n",
    "        print('path6造成失蹤及死亡人數共：',path6_NPtotal,'人')\n",
    "        print('path7造成失蹤及死亡人數共：',path7_NPtotal,'人')\n",
    "        print('path8造成失蹤及死亡人數共：',path8_NPtotal,'人')\n",
    "        print('path9造成失蹤及死亡人數共：',path9_NPtotal,'人')\n",
    "        print('各颱風路徑排序：(颱風路徑,失蹤及死亡人數(人))(多->少）')\n",
    "        print(path__NPtotal_enumerate_sorted)\n",
    "        print('可知颱風路徑二造成人員傷亡最嚴重')\n",
    "    elif s=='14':\n",
    "        print('結束程式!掰掰!')\n",
    "        break\n",
    "    else:\n",
    "        print('輸入錯誤，請重新輸入')\n",
    "        continue"
   ]
  },
  {
   "cell_type": "code",
   "execution_count": null,
   "id": "5f21829d",
   "metadata": {},
   "outputs": [],
   "source": [
    "#嘗試用迴圈方式拉出dict的某一value值，想用value值其中的農業損失及損傷人數做計算，但我只會寫到拉出全部的value值，再問老師!\n",
    "for i in d1:\n",
    "    loss=d1.get(i)\n",
    "    print(loss)"
   ]
  }
 ],
 "metadata": {
  "kernelspec": {
   "display_name": "Python 3 (ipykernel)",
   "language": "python",
   "name": "python3"
  },
  "language_info": {
   "codemirror_mode": {
    "name": "ipython",
    "version": 3
   },
   "file_extension": ".py",
   "mimetype": "text/x-python",
   "name": "python",
   "nbconvert_exporter": "python",
   "pygments_lexer": "ipython3",
   "version": "3.9.12"
  }
 },
 "nbformat": 4,
 "nbformat_minor": 5
}
