{
 "cells": [
  {
   "cell_type": "code",
   "execution_count": 10,
   "id": "fd26bfbc",
   "metadata": {},
   "outputs": [],
   "source": [
    "#課堂練習\n",
    "str1 = \"刑法第二百八十四條第一項前段之過失傷害罪\""
   ]
  },
  {
   "cell_type": "code",
   "execution_count": 11,
   "id": "e693079d",
   "metadata": {},
   "outputs": [
    {
     "data": {
      "text/plain": [
       "'刑法第二百八十四條第一項前段之過失傷害罪'"
      ]
     },
     "execution_count": 11,
     "metadata": {},
     "output_type": "execute_result"
    }
   ],
   "source": [
    "str1"
   ]
  },
  {
   "cell_type": "code",
   "execution_count": 12,
   "id": "20454663",
   "metadata": {
    "scrolled": true
   },
   "outputs": [
    {
     "name": "stdout",
     "output_type": "stream",
     "text": [
      "刑法第二百八十四條第一項前段之過失傷害罪\n"
     ]
    }
   ],
   "source": [
    "print(str1)"
   ]
  },
  {
   "cell_type": "code",
   "execution_count": 17,
   "id": "a3df2aa5",
   "metadata": {},
   "outputs": [],
   "source": [
    "money0=700\n",
    "year=6"
   ]
  },
  {
   "cell_type": "code",
   "execution_count": 22,
   "id": "96414ac4",
   "metadata": {},
   "outputs": [
    {
     "data": {
      "text/plain": [
       "700"
      ]
     },
     "execution_count": 22,
     "metadata": {},
     "output_type": "execute_result"
    }
   ],
   "source": [
    "money0"
   ]
  },
  {
   "cell_type": "code",
   "execution_count": 23,
   "id": "cba8b686",
   "metadata": {},
   "outputs": [
    {
     "data": {
      "text/plain": [
       "6"
      ]
     },
     "execution_count": 23,
     "metadata": {},
     "output_type": "execute_result"
    }
   ],
   "source": [
    "year"
   ]
  },
  {
   "cell_type": "code",
   "execution_count": 28,
   "id": "fff04e9b",
   "metadata": {},
   "outputs": [
    {
     "name": "stdout",
     "output_type": "stream",
     "text": [
      "罰金: 700 元\n"
     ]
    }
   ],
   "source": [
    "print(\"罰金:\",money0,\"元\")"
   ]
  },
  {
   "cell_type": "code",
   "execution_count": 7,
   "id": "ed9794a2",
   "metadata": {
    "scrolled": false
   },
   "outputs": [
    {
     "name": "stdout",
     "output_type": "stream",
     "text": [
      " int,float 練習\n",
      "<class 'int'>\n",
      "<class 'float'>\n",
      "總共要繳納的金額： 115612 元\n"
     ]
    }
   ],
   "source": [
    "#int,float 練習\n",
    "money=63852\n",
    "year=4\n",
    "rate=0.16\n",
    "total_money=money*(1+rate)**year\n",
    "print(type(money))\n",
    "print(type(rate))\n",
    "print(\"總共要繳納的金額：\",int(total_money),\"元\")"
   ]
  },
  {
   "cell_type": "code",
   "execution_count": 10,
   "id": "b03bb973",
   "metadata": {},
   "outputs": [
    {
     "name": "stdout",
     "output_type": "stream",
     "text": [
      "日期： 2022/9/15 \n",
      "判決內容： 偽造文書\n",
      "判決書內容： \n",
      "臺灣臺北地方法院刑事判決　　　　　　　　　　　　八十九年度訴字第一二五五號\n",
      "　　公　訴　人　臺灣臺北地方法院檢察署檢察官\n",
      "　　被　　　告　邱李彩鶯\n",
      "　　　　　　　　邱清義　\n",
      "右列被告因偽造文書等案件，經檢察官提起公訴（八十九年度偵字第二００八號），\n",
      "本院判決如左：\n",
      "    主  文\n",
      "邱李彩鶯、邱清義共同為他人處理事務，意圖為自己不法之利益，而為違背其任務之\n",
      "行為，致生損害於本人之財產，各處有期徒刑肆月，如易科罰金，均以參佰元折算壹\n",
      "日。又共同行使偽造私文書，足以生損害於公眾及他人，各處有期徒刑參月，如易科\n",
      "罰金，均以參佰元折算壹日。各應執行有期徒刑伍月，如易科罰金，均以參佰元折算\n",
      "壹日。\n",
      "據上論斷，應依刑事訴訟法第二百九十九條第一項前段，刑法第二條第一項前段、第\n",
      "二十八條、第三百四十二條第一項、第二百十六條、第二百十條、第二百十四條、第\n",
      "五十五條、第五十一條第五款、修正後刑法第四十一條第一項前段、第二項，罰金罰\n",
      "鍰提高標準條例第一條前段、第二條，判決如主文。\n",
      "本案經檢察官李韋昌到庭執行職務\n",
      "中      華      民      國      九十        年    六      月    五    日\n",
      "                                      臺灣臺北地方法院刑事第五庭\n",
      "                                          法  官  陳容正\n",
      "右正本證明與原本無異\n",
      "如不服本判決應於送達後十日內向本院提出上訴狀\n",
      "                                          書記官  林妙穗\n",
      "中      華      民      國      九十        年   六       月    五    日\n"
     ]
    }
   ],
   "source": [
    "# str 練習\n",
    "date=\"2022/9/15\"\n",
    "topic=\"偽造文書\"\n",
    "print(\"日期：\",date,\"\\n判決內容：\",topic)\n",
    "print(\"判決書內容：\",'''\n",
    "臺灣臺北地方法院刑事判決　　　　　　　　　　　　八十九年度訴字第一二五五號\n",
    "　　公　訴　人　臺灣臺北地方法院檢察署檢察官\n",
    "　　被　　　告　邱李彩鶯\n",
    "　　　　　　　　邱清義　\n",
    "右列被告因偽造文書等案件，經檢察官提起公訴（八十九年度偵字第二００八號），\n",
    "本院判決如左：\n",
    "    主  文\n",
    "邱李彩鶯、邱清義共同為他人處理事務，意圖為自己不法之利益，而為違背其任務之\n",
    "行為，致生損害於本人之財產，各處有期徒刑肆月，如易科罰金，均以參佰元折算壹\n",
    "日。又共同行使偽造私文書，足以生損害於公眾及他人，各處有期徒刑參月，如易科\n",
    "罰金，均以參佰元折算壹日。各應執行有期徒刑伍月，如易科罰金，均以參佰元折算\n",
    "壹日。\n",
    "據上論斷，應依刑事訴訟法第二百九十九條第一項前段，刑法第二條第一項前段、第\n",
    "二十八條、第三百四十二條第一項、第二百十六條、第二百十條、第二百十四條、第\n",
    "五十五條、第五十一條第五款、修正後刑法第四十一條第一項前段、第二項，罰金罰\n",
    "鍰提高標準條例第一條前段、第二條，判決如主文。\n",
    "本案經檢察官李韋昌到庭執行職務\n",
    "中      華      民      國      九十        年    六      月    五    日\n",
    "                                      臺灣臺北地方法院刑事第五庭\n",
    "                                          法  官  陳容正\n",
    "右正本證明與原本無異\n",
    "如不服本判決應於送達後十日內向本院提出上訴狀\n",
    "                                          書記官  林妙穗\n",
    "中      華      民      國      九十        年   六       月    五    日''')"
   ]
  },
  {
   "cell_type": "code",
   "execution_count": 13,
   "id": "b3dd0a6e",
   "metadata": {},
   "outputs": [
    {
     "name": "stdout",
     "output_type": "stream",
     "text": [
      "True\n",
      "True\n",
      "False\n",
      "True\n",
      "[True, True, False, True]\n"
     ]
    }
   ],
   "source": [
    "#bool 練習\n",
    "String_List=[\"有酒駕\",\"有酒駕\",\"無酒駕\",\"有酒駕\"]\n",
    "#第一種方法\n",
    "for event in String_List:\n",
    "    if event==\"有酒駕\":\n",
    "        print(\"True\")\n",
    "    else:\n",
    "        print(\"False\")\n",
    "#第二種方法\n",
    "boolean_list=[X==\"有酒駕\"for X in String_List]\n",
    "print(boolean_list)"
   ]
  },
  {
   "cell_type": "code",
   "execution_count": 2,
   "id": "04d5adf1",
   "metadata": {},
   "outputs": [
    {
     "name": "stdout",
     "output_type": "stream",
     "text": [
      "7706\n",
      "17981\n"
     ]
    }
   ],
   "source": [
    "#練習題一\n",
    "x=25688*0.3\n",
    "y=25688*0.7\n",
    "print(int(x))\n",
    "print(int(y))"
   ]
  },
  {
   "cell_type": "code",
   "execution_count": 5,
   "id": "d0164fc2",
   "metadata": {},
   "outputs": [
    {
     "name": "stdout",
     "output_type": "stream",
     "text": [
      "12290\n"
     ]
    }
   ],
   "source": [
    "#練習題二\n",
    "#被告給原告11805元，利息0.00005\n",
    "#1/19~3/19:59天\n",
    "#違約金第一個月:150元、第二個月:300元\n",
    "x=11805*(1+0.00005)**59+450\n",
    "print(round(x))"
   ]
  },
  {
   "cell_type": "code",
   "execution_count": 8,
   "id": "5bed04d1",
   "metadata": {},
   "outputs": [
    {
     "name": "stdout",
     "output_type": "stream",
     "text": [
      "請輸入案件：被告闖紅燈\n",
      "被告賠100%\n"
     ]
    }
   ],
   "source": [
    "event=input(\"請輸入案件：\")\n",
    "if event==\"被告闖紅燈\":\n",
    "    print(\"被告賠100%\")\n",
    "elif event==\"被告闖紅燈\":\n",
    "    print(\"原告多被告少\")\n",
    "elif event==\"被告原告皆闖紅燈\":\n",
    "    print(\"原告50%被告50%\")\n",
    "else:\n",
    "    print(\"請填入有效訊息\")"
   ]
  },
  {
   "cell_type": "code",
   "execution_count": 1,
   "id": "7bae29a9",
   "metadata": {},
   "outputs": [],
   "source": [
    "import pandas as pd\n",
    "#read txt file\n",
    "NB=pd.read_csv(r\"\\Users\\tien\\Documents\\GitHub\\PL\\file\\W2\\NTNUlibrary_geobooks.txt\")\n",
    "TB=pd.read_csv(r\"\\Users\\tien\\Documents\\GitHub\\PL\\file\\W2\\TAIlibrary_geobooks.txt\")"
   ]
  },
  {
   "cell_type": "code",
   "execution_count": 2,
   "id": "2be497be",
   "metadata": {},
   "outputs": [
    {
     "data": {
      "text/html": [
       "<div>\n",
       "<style scoped>\n",
       "    .dataframe tbody tr th:only-of-type {\n",
       "        vertical-align: middle;\n",
       "    }\n",
       "\n",
       "    .dataframe tbody tr th {\n",
       "        vertical-align: top;\n",
       "    }\n",
       "\n",
       "    .dataframe thead th {\n",
       "        text-align: right;\n",
       "    }\n",
       "</style>\n",
       "<table border=\"1\" class=\"dataframe\">\n",
       "  <thead>\n",
       "    <tr style=\"text-align: right;\">\n",
       "      <th></th>\n",
       "      <th>書名</th>\n",
       "    </tr>\n",
       "  </thead>\n",
       "  <tbody>\n",
       "    <tr>\n",
       "      <th>0</th>\n",
       "      <td>地理思想/ 王洪文著</td>\n",
       "    </tr>\n",
       "    <tr>\n",
       "      <th>1</th>\n",
       "      <td>地理思想.思想地理 / 施雅軒著</td>\n",
       "    </tr>\n",
       "    <tr>\n",
       "      <th>2</th>\n",
       "      <td>地理思想讀本 / 姜蘭虹等編譯</td>\n",
       "    </tr>\n",
       "  </tbody>\n",
       "</table>\n",
       "</div>"
      ],
      "text/plain": [
       "                 書名\n",
       "0        地理思想/ 王洪文著\n",
       "1  地理思想.思想地理 / 施雅軒著\n",
       "2   地理思想讀本 / 姜蘭虹等編譯"
      ]
     },
     "execution_count": 2,
     "metadata": {},
     "output_type": "execute_result"
    }
   ],
   "source": [
    "NB"
   ]
  },
  {
   "cell_type": "code",
   "execution_count": 13,
   "id": "fb6b522c",
   "metadata": {},
   "outputs": [
    {
     "data": {
      "text/html": [
       "<div>\n",
       "<style scoped>\n",
       "    .dataframe tbody tr th:only-of-type {\n",
       "        vertical-align: middle;\n",
       "    }\n",
       "\n",
       "    .dataframe tbody tr th {\n",
       "        vertical-align: top;\n",
       "    }\n",
       "\n",
       "    .dataframe thead th {\n",
       "        text-align: right;\n",
       "    }\n",
       "</style>\n",
       "<table border=\"1\" class=\"dataframe\">\n",
       "  <thead>\n",
       "    <tr style=\"text-align: right;\">\n",
       "      <th></th>\n",
       "      <th>書名</th>\n",
       "    </tr>\n",
       "  </thead>\n",
       "  <tbody>\n",
       "    <tr>\n",
       "      <th>0</th>\n",
       "      <td>地理思想/ 王洪文著</td>\n",
       "    </tr>\n",
       "    <tr>\n",
       "      <th>1</th>\n",
       "      <td>地理現象與地理思想/ 周春堤著</td>\n",
       "    </tr>\n",
       "    <tr>\n",
       "      <th>2</th>\n",
       "      <td>地理思想.思想地理 / 施雅軒著</td>\n",
       "    </tr>\n",
       "    <tr>\n",
       "      <th>3</th>\n",
       "      <td>現代地理思想 = Modern geographical thought / Richard...</td>\n",
       "    </tr>\n",
       "    <tr>\n",
       "      <th>4</th>\n",
       "      <td>地理思想讀本 / 姜蘭虹等編譯</td>\n",
       "    </tr>\n",
       "    <tr>\n",
       "      <th>5</th>\n",
       "      <td>心靈.空間.環境 : 人文主義的地理思想 / 潘朝陽著</td>\n",
       "    </tr>\n",
       "  </tbody>\n",
       "</table>\n",
       "</div>"
      ],
      "text/plain": [
       "                                                  書名\n",
       "0                                         地理思想/ 王洪文著\n",
       "1                                    地理現象與地理思想/ 周春堤著\n",
       "2                                   地理思想.思想地理 / 施雅軒著\n",
       "3  現代地理思想 = Modern geographical thought / Richard...\n",
       "4                                    地理思想讀本 / 姜蘭虹等編譯\n",
       "5                        心靈.空間.環境 : 人文主義的地理思想 / 潘朝陽著"
      ]
     },
     "execution_count": 13,
     "metadata": {},
     "output_type": "execute_result"
    }
   ],
   "source": [
    "TB"
   ]
  },
  {
   "cell_type": "code",
   "execution_count": 19,
   "id": "3bb3b391",
   "metadata": {},
   "outputs": [
    {
     "name": "stdout",
     "output_type": "stream",
     "text": [
      "師大圖書館地理思想書籍： 3 臺北市立圖書館地理思想書籍： 6\n"
     ]
    }
   ],
   "source": [
    "# ［列出csv檔一欄位總共多少值］：\n",
    "# alldata = list(allstudent['學號']) [列出全部學號(csv一欄位)]\n",
    "# len(alldata)=>45個學號  \n",
    "Taipeidata = list(TB['書名'])\n",
    "NTNUdata = list(NB['書名'])\n",
    "print('師大圖書館地理思想書籍：',len(NTNUdata),'臺北市立圖書館地理思想書籍：',len(Taipeidata))"
   ]
  },
  {
   "cell_type": "code",
   "execution_count": null,
   "id": "3a7a96da",
   "metadata": {},
   "outputs": [],
   "source": [
    "# 補充\n",
    "# final_df = applystudent.drop_duplicates(subset=['學號'])-->刪除學號重複的人\n",
    "# applys = list(final_df['學號'].str.upper()) #強制將所有學號的英文字母轉成大寫"
   ]
  },
  {
   "cell_type": "code",
   "execution_count": 22,
   "id": "9c3fdf12",
   "metadata": {},
   "outputs": [
    {
     "data": {
      "text/plain": [
       "{'地理現象與地理思想/ 周春堤著',\n",
       " '心靈.空間.環境 : 人文主義的地理思想 / 潘朝陽著',\n",
       " '現代地理思想 = Modern geographical thought / Richard Peet原著 ; 王志弘等翻譯 ; 國立編譯館主譯'}"
      ]
     },
     "execution_count": 22,
     "metadata": {},
     "output_type": "execute_result"
    }
   ],
   "source": [
    "#找差集\n",
    "#找到臺北市立圖書館地理思想書籍，師大藏書卻沒有\n",
    "set(Taipeidata).difference(set(NTNUdata))"
   ]
  },
  {
   "cell_type": "code",
   "execution_count": 23,
   "id": "5fa13501",
   "metadata": {},
   "outputs": [
    {
     "data": {
      "text/plain": [
       "set()"
      ]
     },
     "execution_count": 23,
     "metadata": {},
     "output_type": "execute_result"
    }
   ],
   "source": [
    "#找差集\n",
    "#找到師大圖書館地理思想書籍，臺北市立圖書館卻沒有的\n",
    "set(NTNUdata).difference(set(Taipeidata))"
   ]
  },
  {
   "cell_type": "code",
   "execution_count": 33,
   "id": "272c1fcb",
   "metadata": {},
   "outputs": [
    {
     "data": {
      "text/html": [
       "<div>\n",
       "<style scoped>\n",
       "    .dataframe tbody tr th:only-of-type {\n",
       "        vertical-align: middle;\n",
       "    }\n",
       "\n",
       "    .dataframe tbody tr th {\n",
       "        vertical-align: top;\n",
       "    }\n",
       "\n",
       "    .dataframe thead th {\n",
       "        text-align: right;\n",
       "    }\n",
       "</style>\n",
       "<table border=\"1\" class=\"dataframe\">\n",
       "  <thead>\n",
       "    <tr style=\"text-align: right;\">\n",
       "      <th></th>\n",
       "      <th>書名</th>\n",
       "    </tr>\n",
       "  </thead>\n",
       "  <tbody>\n",
       "    <tr>\n",
       "      <th>0</th>\n",
       "      <td>地理思想/ 王洪文著</td>\n",
       "    </tr>\n",
       "    <tr>\n",
       "      <th>1</th>\n",
       "      <td>地理思想.思想地理 / 施雅軒著</td>\n",
       "    </tr>\n",
       "    <tr>\n",
       "      <th>2</th>\n",
       "      <td>地理思想讀本 / 姜蘭虹等編譯</td>\n",
       "    </tr>\n",
       "  </tbody>\n",
       "</table>\n",
       "</div>"
      ],
      "text/plain": [
       "                 書名\n",
       "0        地理思想/ 王洪文著\n",
       "1  地理思想.思想地理 / 施雅軒著\n",
       "2   地理思想讀本 / 姜蘭虹等編譯"
      ]
     },
     "execution_count": 33,
     "metadata": {},
     "output_type": "execute_result"
    }
   ],
   "source": [
    "#找交集\n",
    "df_merge = pd.merge(TB,NB,on = \"書名\", how = \"inner\")\n",
    "df_merge"
   ]
  }
 ],
 "metadata": {
  "kernelspec": {
   "display_name": "Python 3 (ipykernel)",
   "language": "python",
   "name": "python3"
  },
  "language_info": {
   "codemirror_mode": {
    "name": "ipython",
    "version": 3
   },
   "file_extension": ".py",
   "mimetype": "text/x-python",
   "name": "python",
   "nbconvert_exporter": "python",
   "pygments_lexer": "ipython3",
   "version": "3.9.12"
  }
 },
 "nbformat": 4,
 "nbformat_minor": 5
}
