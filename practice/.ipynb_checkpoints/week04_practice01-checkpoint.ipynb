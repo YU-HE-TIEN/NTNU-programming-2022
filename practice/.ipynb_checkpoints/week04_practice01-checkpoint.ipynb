{
 "cells": [
  {
   "cell_type": "code",
   "execution_count": 1,
   "id": "e28ca7a7",
   "metadata": {
    "scrolled": true
   },
   "outputs": [
    {
     "name": "stdout",
     "output_type": "stream",
     "text": [
      "{'雪霸國家公園山屋': ['七卡', '三六九', '翠池', '桃山', '新達', '九九'], '雪霸國家公園營地': ['七卡', '翠池', '桃山', '三叉', '新達', '馬達拉溪登山口', '賽良久']}\n"
     ]
    }
   ],
   "source": [
    "# dictionary 儲存資料格式與其變化\n",
    "d={\"雪霸國家公園山屋\":[\"七卡\",\"三六九\",\"翠池\",\"桃山\",\"新達\",\"九九\"],\n",
    "   \"雪霸國家公園營地\":[\"七卡\",\"翠池\",\"桃山\",\"三叉\",\"新達\",\"馬達拉溪登山口\",\"賽良久\"]}\n",
    "print(d)"
   ]
  },
  {
   "cell_type": "code",
   "execution_count": 2,
   "id": "4945f083",
   "metadata": {},
   "outputs": [
    {
     "name": "stdout",
     "output_type": "stream",
     "text": [
      "['雪霸國家公園山屋', '雪霸國家公園營地']\n",
      "[['七卡', '三六九', '翠池', '桃山', '新達', '九九'], ['七卡', '翠池', '桃山', '三叉', '新達', '馬達拉溪登山口', '賽良久']]\n"
     ]
    }
   ],
   "source": [
    "# 產生一變數儲存字典的關鍵字 key\n",
    "DK=list(d.keys())\n",
    "print(DK)\n",
    "# 產生一變數儲存字典的value\n",
    "DV=list(d.values())\n",
    "print(DV)"
   ]
  },
  {
   "cell_type": "code",
   "execution_count": 3,
   "id": "4562f6e6",
   "metadata": {},
   "outputs": [
    {
     "name": "stdout",
     "output_type": "stream",
     "text": [
      "['雪霸國家公園山屋', '雪霸國家公園營地']\n",
      "[['七卡', '三六九', '翠池', '桃山', '新達', '九九'], ['七卡', '翠池', '桃山', '三叉', '新達', '馬達拉溪登山口', '賽良久']]\n"
     ]
    }
   ],
   "source": [
    "# 其實不用變數也可以print，只是比較亂\n",
    "print(list(d.keys()))\n",
    "print(list(d.values()))"
   ]
  },
  {
   "cell_type": "code",
   "execution_count": 4,
   "id": "12cdd76b",
   "metadata": {},
   "outputs": [
    {
     "name": "stdout",
     "output_type": "stream",
     "text": [
      "['七卡', '三六九', '翠池', '桃山', '新達', '九九']\n",
      "['七卡', '三六九', '翠池', '桃山', '新達', '九九']\n"
     ]
    }
   ],
   "source": [
    "#  用關鍵字列出關鍵字下的values\n",
    "# d[\"keys\"] => 列出關鍵字下的values\n",
    "MH=list(d[\"雪霸國家公園山屋\"])\n",
    "print(MH)\n",
    "print(list(d[\"雪霸國家公園山屋\"]))\n",
    "MC=list(d[\"雪霸國家公園營地\"])"
   ]
  },
  {
   "cell_type": "code",
   "execution_count": 5,
   "id": "13a10458",
   "metadata": {},
   "outputs": [
    {
     "name": "stdout",
     "output_type": "stream",
     "text": [
      "桃山\n",
      "三叉\n"
     ]
    }
   ],
   "source": [
    "print(d[\"雪霸國家公園山屋\"][3])\n",
    "print(d[\"雪霸國家公園營地\"][3])"
   ]
  },
  {
   "cell_type": "code",
   "execution_count": 6,
   "id": "a7d70b72",
   "metadata": {},
   "outputs": [
    {
     "name": "stdout",
     "output_type": "stream",
     "text": [
      "['新達', '翠池', '桃山', '七卡']\n"
     ]
    }
   ],
   "source": [
    "def Intersection(MH, MC):\n",
    "    return set(MH).intersection(MC)\n",
    "Both=list(set(MH).intersection(MC))\n",
    "print(Both)"
   ]
  },
  {
   "cell_type": "code",
   "execution_count": 7,
   "id": "fa2e115e",
   "metadata": {
    "scrolled": false
   },
   "outputs": [
    {
     "name": "stdout",
     "output_type": "stream",
     "text": [
      "請輸入山屋:七卡\n"
     ]
    }
   ],
   "source": [
    "s=input(\"請輸入山屋:\")"
   ]
  },
  {
   "cell_type": "code",
   "execution_count": 36,
   "id": "748b65ba",
   "metadata": {},
   "outputs": [
    {
     "name": "stdout",
     "output_type": "stream",
     "text": [
      "該山屋有營地\n"
     ]
    }
   ],
   "source": [
    "Both=['新達', '翠池', '桃山', '七卡']\n",
    "if s in Both:\n",
    "    print(\"該山屋有營地\")\n",
    "elif s in MH:\n",
    "    print(\"該山屋沒有營地\")\n",
    "else:\n",
    "    print(\"沒有此山屋\")"
   ]
  },
  {
   "cell_type": "code",
   "execution_count": 9,
   "id": "95953cef",
   "metadata": {
    "scrolled": false
   },
   "outputs": [
    {
     "name": "stdout",
     "output_type": "stream",
     "text": [
      "請輸入營地:三叉\n"
     ]
    }
   ],
   "source": [
    "A=input(\"請輸入營地:\")"
   ]
  },
  {
   "cell_type": "code",
   "execution_count": 35,
   "id": "49c9d5ed",
   "metadata": {
    "scrolled": true
   },
   "outputs": [
    {
     "name": "stdout",
     "output_type": "stream",
     "text": [
      "該營地沒有山屋\n"
     ]
    }
   ],
   "source": [
    "Both=['新達', '翠池', '桃山', '七卡']\n",
    "if A in Both:\n",
    "    print(\"該營地有山屋\")\n",
    "elif A in MC:\n",
    "    print(\"該營地沒有山屋\")\n",
    "else:\n",
    "    print(\"沒有此營地\")"
   ]
  },
  {
   "cell_type": "code",
   "execution_count": 32,
   "id": "d9bb9a40",
   "metadata": {
    "scrolled": true
   },
   "outputs": [
    {
     "name": "stdout",
     "output_type": "stream",
     "text": [
      "請輸入山屋或營地:桃山\n"
     ]
    }
   ],
   "source": [
    "# 進階可以做請輸入山屋營地\n",
    "B=input(\"請輸入山屋或營地:\")"
   ]
  },
  {
   "cell_type": "code",
   "execution_count": 34,
   "id": "6f561b24",
   "metadata": {},
   "outputs": [
    {
     "name": "stdout",
     "output_type": "stream",
     "text": [
      "有山屋和營地\n"
     ]
    }
   ],
   "source": [
    "Both=['新達', '翠池', '桃山', '七卡']\n",
    "if B in Both:\n",
    "    print(\"有山屋和營地\")\n",
    "elif B in MH:\n",
    "    print(\"該山屋沒有營地\")\n",
    "elif B in MC:\n",
    "    print(\"該營地沒有山屋\")\n",
    "else:\n",
    "    print(\"沒有此山屋或營地\")"
   ]
  }
 ],
 "metadata": {
  "kernelspec": {
   "display_name": "Python 3 (ipykernel)",
   "language": "python",
   "name": "python3"
  },
  "language_info": {
   "codemirror_mode": {
    "name": "ipython",
    "version": 3
   },
   "file_extension": ".py",
   "mimetype": "text/x-python",
   "name": "python",
   "nbconvert_exporter": "python",
   "pygments_lexer": "ipython3",
   "version": "3.9.12"
  }
 },
 "nbformat": 4,
 "nbformat_minor": 5
}
