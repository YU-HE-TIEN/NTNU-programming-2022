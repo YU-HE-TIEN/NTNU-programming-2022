{
 "cells": [
  {
   "cell_type": "code",
   "execution_count": 10,
   "id": "52e9cbb0",
   "metadata": {},
   "outputs": [],
   "source": [
    "#課堂練習題目一\n",
    "#已知有甲、乙、丙三人，分別分別年齡為40、52、63，他們分別觸犯多條道路交通管理處罰條例。\n",
    "#甲：第62條 汽車駕駛人駕駛汽車肇事，被罰了2000元、 第12條 汽車使用吊銷、註銷之牌照，被罰了5000元\n",
    "#乙：第16條 裝置高音量喇叭或其他產生噪音器物，被罰了1200元、 第56條 在禁止臨時停車處所停車，被罰了800元、 第82條 未經許可在道路擺設攤位，被罰了1500元、 第17條 汽車不依限期參加定期檢驗或臨時檢驗，被罰了900元\n",
    "#丙：第21條 未領有駕駛執照駕駛小型車或機車，被罰了8000元\n",
    "#請使用while迴圈讓使用者選擇： 1.查看甲資料 2.查看乙資料 3.查看丙資料 4.犯罪數排名 5.累積罰金&罰鍰數排名 6.結束程式\n",
    "#其餘(包含文字)顯示請重新輸入"
   ]
  },
  {
   "cell_type": "code",
   "execution_count": 1,
   "id": "56995166",
   "metadata": {},
   "outputs": [],
   "source": [
    "#每個人用dictionary建檔\n",
    "person1={'name':'甲',\n",
    "           'age':40,\n",
    "           'penalty':['第62條','第12條'],\n",
    "           '條例內容':{'第62條':'汽車駕駛人駕駛汽車肇事',\n",
    "                   '第12條':'汽車使用吊銷、註銷之牌照'},\n",
    "           '罰金':{'第62條':2000,\n",
    "                 '第12條':5000}\n",
    "          }\n",
    "person2={'name':'乙',\n",
    "           'age':52,\n",
    "           'penalty':['第16條','第56條','第82條','第17條'],\n",
    "           '條例內容':{'第16條':'汽車駕駛人駕駛汽車肇事',\n",
    "                   '第56條':'汽車使用吊銷、註銷之牌照',\n",
    "                   '第82條':'未經許可在道路擺設攤位',\n",
    "                   '第17條':'汽車不依限期參加定期檢驗或臨時檢驗'},\n",
    "           '罰金':{'第16條':1200,\n",
    "                 '第56條':800,\n",
    "                 '第82條':1500,\n",
    "                 '第17條':900}\n",
    "          }\n",
    "person3={'name':'丙',\n",
    "           'age':63,\n",
    "           'penalty':'第21條',\n",
    "           '條例內容':{'第21條':'未領有駕駛執照駕駛小型車或機車'},\n",
    "           '罰金':{'第21條':8000}\n",
    "          }\n"
   ]
  },
  {
   "cell_type": "code",
   "execution_count": 2,
   "id": "10f50e3e",
   "metadata": {},
   "outputs": [
    {
     "data": {
      "text/plain": [
       "dict_items([('name', '甲'), ('age', 40), ('penalty', ['第62條', '第12條']), ('條例內容', {'第62條': '汽車駕駛人駕駛汽車肇事', '第12條': '汽車使用吊銷、註銷之牌照'}), ('罰金', {'第62條': 2000, '第12條': 5000})])"
      ]
     },
     "execution_count": 2,
     "metadata": {},
     "output_type": "execute_result"
    }
   ],
   "source": [
    "person1.items()"
   ]
  },
  {
   "cell_type": "code",
   "execution_count": 2,
   "id": "90816198",
   "metadata": {},
   "outputs": [],
   "source": [
    "#將每個人的dictionary合併成一個dictionary\n",
    "dict={\n",
    "    'person1':{'name':'甲',\n",
    "               'age':40,\n",
    "               'penalty':['第62條','第12條'],\n",
    "               '條例內容':{'第62條':'汽車駕駛人駕駛汽車肇事',\n",
    "                           '第12條':'汽車使用吊銷、註銷之牌照'},\n",
    "               '罰金':{'第62條':2000,\n",
    "                        '第12條':5000}\n",
    "              },\n",
    "    'person2':{'name':'乙',\n",
    "               'age':52,\n",
    "               'penalty':['第16條','第56條','第82條','第17條'],\n",
    "               '條例內容':{'第16條':'汽車駕駛人駕駛汽車肇事',\n",
    "                       '第56條':'汽車使用吊銷、註銷之牌照',\n",
    "                       '第82條':'未經許可在道路擺設攤位',\n",
    "                       '第17條':'汽車不依限期參加定期檢驗或臨時檢驗'},\n",
    "               '罰金':{'第16條':1200,\n",
    "                     '第56條':800,\n",
    "                     '第82條':1500,\n",
    "                     '第17條':900}\n",
    "              },\n",
    "    'person3':{'name':'丙',\n",
    "               'age':63,\n",
    "               'penalty':'第21條',\n",
    "               '條例內容':{'第21條':'未領有駕駛執照駕駛小型車或機車'},\n",
    "               '罰金':{'第21條':8000}\n",
    "              }\n",
    "}"
   ]
  },
  {
   "cell_type": "code",
   "execution_count": 3,
   "id": "3b7068fa",
   "metadata": {},
   "outputs": [
    {
     "data": {
      "text/plain": [
       "dict_items([('person1', {'name': '甲', 'age': 40, 'penalty': ['第62條', '第12條'], '條例內容': {'第62條': '汽車駕駛人駕駛汽車肇事', '第12條': '汽車使用吊銷、註銷之牌照'}, '罰金': {'第62條': 2000, '第12條': 5000}}), ('person2', {'name': '乙', 'age': 52, 'penalty': ['第16條', '第56條', '第82條', '第17條'], '條例內容': {'第16條': '汽車駕駛人駕駛汽車肇事', '第56條': '汽車使用吊銷、註銷之牌照', '第82條': '未經許可在道路擺設攤位', '第17條': '汽車不依限期參加定期檢驗或臨時檢驗'}, '罰金': {'第16條': 1200, '第56條': 800, '第82條': 1500, '第17條': 900}}), ('person3', {'name': '丙', 'age': 63, 'penalty': '第21條', '條例內容': {'第21條': '未領有駕駛執照駕駛小型車或機車'}, '罰金': {'第21條': 8000}})])"
      ]
     },
     "execution_count": 3,
     "metadata": {},
     "output_type": "execute_result"
    }
   ],
   "source": [
    "dict.items()"
   ]
  },
  {
   "cell_type": "code",
   "execution_count": 4,
   "id": "bb561164",
   "metadata": {
    "scrolled": true
   },
   "outputs": [],
   "source": [
    "#定義 guilt()函數，計算罪責數和處存罪責內容\n",
    "def guilt():\n",
    "    number=len(dict_keys['條例內容'])\n",
    "    content = []\n",
    "    for i in dict_keys['條例內容']: #for crime in dict_name['罪責'].items:\n",
    "        crime = (i,dict_keys['條例內容'][i]) #這行是什麼意思???  #用 .items 這行就可以不用\n",
    "        content.append(crime)\n",
    "    return number,content"
   ]
  },
  {
   "cell_type": "code",
   "execution_count": 5,
   "id": "d43bfe98",
   "metadata": {},
   "outputs": [],
   "source": [
    "#定義 guilt()函數，計算罪責數和處存罪責內容\n",
    "def guilt():\n",
    "    number=len(dict_keys['條例內容'])\n",
    "    content = []\n",
    "    for crime in dict_keys['條例內容'].items: #for crime in dict_name['罪責'].items:\n",
    "        content.append(crime)\n",
    "    return number,content"
   ]
  },
  {
   "cell_type": "code",
   "execution_count": 6,
   "id": "d960e3b6",
   "metadata": {},
   "outputs": [],
   "source": [
    "#定義money()函數，計算總金額和處存罰鍰內容\n",
    "def money(dict_keys): \n",
    "    sum = 0\n",
    "    content = []\n",
    "    for i in dict_keys['罰鍰']: #for key, value in dict_name['罰鍰'].items:\n",
    "        crime = (i,dict_keys['罰鍰'][i]) #crime = (key, value)\n",
    "        content.append(crime)\n",
    "        sum += dict_keys['罰鍰'][i] #sum += value\n",
    "    return sum, content"
   ]
  },
  {
   "cell_type": "code",
   "execution_count": 7,
   "id": "8f95a917",
   "metadata": {},
   "outputs": [],
   "source": [
    "#定義money()函數，計算總金額和處存罰鍰內容\n",
    "def money(dict_keys): \n",
    "    sum = 0\n",
    "    content = []\n",
    "    for crime in dict_keys['罰鍰'].items: #for key, value in dict_name['罰鍰'].items:\n",
    "        content.append(crime)\n",
    "        sum += dict_keys['罰鍰'][i] #sum += value\n",
    "    return sum, content"
   ]
  },
  {
   "cell_type": "code",
   "execution_count": null,
   "id": "bfbddb51",
   "metadata": {},
   "outputs": [
    {
     "name": "stdout",
     "output_type": "stream",
     "text": [
      "觸犯道路交通管理處罰條例人員名單\n",
      "請輸入: 1.查看甲資料 2.查看乙資料 3.查看丙資料 4.犯罪數排名 5.累積罰金&罰鍰數排名 6.結束程式4\n",
      "輸入錯誤，請重新輸入\n",
      "請輸入: 1.查看甲資料 2.查看乙資料 3.查看丙資料 4.犯罪數排名 5.累積罰金&罰鍰數排名 6.結束程式3\n",
      "姓名: 丙\n",
      "年紀: 63\n",
      "罰責: 第21條\n",
      "共觸犯: 4 條法律\n",
      "詳細內容: {'name': '丙', 'age': 63, 'penalty': '第21條', '條例內容': {'第21條': '未領有駕駛執照駕駛小型車或機車'}, '罰金': {'第21條': 8000}}\n"
     ]
    }
   ],
   "source": [
    "#剩犯罪數排名 5.累積罰金&罰鍰數排名\n",
    "print('觸犯道路交通管理處罰條例人員名單')\n",
    "while True:\n",
    "    o = input('請輸入: 1.查看甲資料 2.查看乙資料 3.查看丙資料 4.犯罪數排名 5.累積罰金&罰鍰數排名 6.結束程式')\n",
    "    if o=='1':\n",
    "        print('姓名:',dict['person1']['name'])\n",
    "        print('年紀:',dict['person1']['age'])\n",
    "        print('罰責:',dict['person1']['penalty'])\n",
    "        print('共觸犯:',len(dict['person1']['penalty']),'條法律')\n",
    "        print('詳細內容:',dict['person1'])\n",
    "    elif o=='2':\n",
    "        print('姓名:',dict['person2']['name'])\n",
    "        print('年紀:',dict['person2']['age'])\n",
    "        print('罰責:',dict['person2']['penalty'])\n",
    "        print('共觸犯:',len(dict['person2']['penalty']),'條法律')\n",
    "        print('詳細內容:',dict['person2'])\n",
    "    elif o=='3':\n",
    "        print('姓名:',dict['person3']['name'])\n",
    "        print('年紀:',dict['person3']['age'])\n",
    "        print('罰責:',dict['person3']['penalty'])\n",
    "        print('共觸犯:',len(dict['person3']['penalty']),'條法律')\n",
    "        print('詳細內容:',dict['person3'])\n",
    "    elif o == '6':\n",
    "        print('結束程式!掰掰!')\n",
    "        break\n",
    "    else:\n",
    "        print('輸入錯誤，請重新輸入')\n",
    "        continue"
   ]
  },
  {
   "cell_type": "code",
   "execution_count": null,
   "id": "6113754d",
   "metadata": {},
   "outputs": [],
   "source": [
    "#0301練習(作業一) :\n",
    "#已知有阿程、阿力、阿瑤三人，分別分別年齡為34、29、58，他們分別觸犯多條道路交通管理處罰條例。\n",
    "#甲：第16條 裝置高音量喇叭或其他產生噪音器物，被罰了1600元、 第17條 汽車不依限期參加定期檢驗或臨時檢驗，被罰了1500元、 第62條 汽車駕駛人駕駛汽車肇事，被罰了2500元、 第21條 未領有駕駛執照駕駛小型車或機車，被罰了10500元\n",
    "#乙：第12條 汽車使用吊銷、註銷之牌照，被罰了5000元\n",
    "#丙：第82條 未經許可在道路擺設攤位，被罰了2000元、 第56條 在禁止臨時停車處所停車，被罰了1000元\n",
    "#請使用while迴圈讓使用者選擇： 1.查看阿程資料 2.查看阿力資料 3.查看阿瑤資料 4.犯罪數排名 5.累積罰金&罰鍰數排名 6.結束程式\n",
    "#其餘(包含文字)顯示請重新輸入"
   ]
  },
  {
   "cell_type": "code",
   "execution_count": 1,
   "id": "17b526fe",
   "metadata": {},
   "outputs": [],
   "source": [
    "person1={\n",
    "    'name':'阿程',\n",
    "    'age':34,\n",
    "    '罰責':{'第16條':' 裝置高音量喇叭或其他產生噪音器物',\n",
    "          '第17條':'汽車不依限期參加定期檢驗或臨時檢驗',\n",
    "          '第62條':'汽車駕駛人駕駛汽車肇事',\n",
    "          '第21條':'未領有駕駛執照駕駛小型車或機車'},\n",
    "    '罰鍰':{'第16條':1600,\n",
    "          '第17條':1500,\n",
    "          '第62條':2500,\n",
    "          '第21條':10500\n",
    "         }\n",
    "}\n",
    "person2={\n",
    "    'name':'阿力',\n",
    "    'age':29,\n",
    "    '罰責':{'第12條':'汽車使用吊銷、註銷之牌照'},\n",
    "    '罰鍰':{'第12條':5000}\n",
    "}\n",
    "person3={\n",
    "    'name':'阿瑤',\n",
    "    'age':58,\n",
    "    '罰責':{'第82條':'未經許可在道路擺設攤位',\n",
    "            '第56條':'禁止臨時停車處所停車'},\n",
    "    '罰鍰':{'第82條':2000,\n",
    "            '第56條':1000}\n",
    "}"
   ]
  },
  {
   "cell_type": "code",
   "execution_count": 2,
   "id": "f6b34376",
   "metadata": {},
   "outputs": [
    {
     "name": "stdout",
     "output_type": "stream",
     "text": [
      "觸犯道路交通管理處罰條例人員名單\n",
      "請輸入: 1.查看阿程資料 2.查看阿力資料 3.查看阿瑤資料 4.犯罪數排名 5.累積罰金&罰鍰數排名 6.結束程式1\n",
      "姓名: 阿程\n",
      "年紀: 34\n",
      "罰責: {'第16條': ' 裝置高音量喇叭或其他產生噪音器物', '第17條': '汽車不依限期參加定期檢驗或臨時檢驗', '第62條': '汽車駕駛人駕駛汽車肇事', '第21條': '未領有駕駛執照駕駛小型車或機車'}\n",
      "共觸犯(條): 4\n",
      "詳細內容: {'name': '阿程', 'age': 34, '罰責': {'第16條': ' 裝置高音量喇叭或其他產生噪音器物', '第17條': '汽車不依限期參加定期檢驗或臨時檢驗', '第62條': '汽車駕駛人駕駛汽車肇事', '第21條': '未領有駕駛執照駕駛小型車或機車'}, '罰鍰': {'第16條': 1600, '第17條': 1500, '第62條': 2500, '第21條': 10500}}\n",
      "請輸入: 1.查看阿程資料 2.查看阿力資料 3.查看阿瑤資料 4.犯罪數排名 5.累積罰金&罰鍰數排名 6.結束程式6\n",
      "結束程式!掰掰!\n"
     ]
    }
   ],
   "source": [
    "#剩4.犯罪數排名 5.累積罰金&罰鍰數排名\n",
    "print('觸犯道路交通管理處罰條例人員名單')\n",
    "while True:\n",
    "    o = input('請輸入: 1.查看阿程資料 2.查看阿力資料 3.查看阿瑤資料 4.犯罪數排名 5.累積罰金&罰鍰數排名 6.結束程式')\n",
    "    if o=='1':\n",
    "        print('姓名:',person1['name'])\n",
    "        print('年紀:',person1['age'])\n",
    "        print('罰責:',person1['罰責'])\n",
    "        print('共觸犯(條):',len(person1['罰責']))\n",
    "        print('詳細內容:',person1)\n",
    "    elif o=='2':\n",
    "        print('姓名:',person2['name'])\n",
    "        print('年紀:',person2['age'])\n",
    "        print('罰責:',person2['罰責'])\n",
    "        print('共觸犯(條):',len(person2['罰責']))\n",
    "        print('詳細內容:',person2)\n",
    "    elif o=='3':\n",
    "        print('姓名:',person3['name'])\n",
    "        print('年紀:',person3['age'])\n",
    "        print('罰責:',person3['罰責'])\n",
    "        print('共觸犯(條):',len(person3['罰責']))\n",
    "        print('詳細內容:',person3)\n",
    "    elif o == '6':\n",
    "        print('結束程式!掰掰!')\n",
    "        break\n",
    "    else:\n",
    "        print('輸入錯誤，請重新輸入')\n",
    "        continue"
   ]
  },
  {
   "cell_type": "code",
   "execution_count": null,
   "id": "073753af",
   "metadata": {},
   "outputs": [],
   "source": []
  },
  {
   "cell_type": "code",
   "execution_count": null,
   "id": "ad0f86c0",
   "metadata": {},
   "outputs": [],
   "source": []
  }
 ],
 "metadata": {
  "kernelspec": {
   "display_name": "Python 3 (ipykernel)",
   "language": "python",
   "name": "python3"
  },
  "language_info": {
   "codemirror_mode": {
    "name": "ipython",
    "version": 3
   },
   "file_extension": ".py",
   "mimetype": "text/x-python",
   "name": "python",
   "nbconvert_exporter": "python",
   "pygments_lexer": "ipython3",
   "version": "3.9.12"
  }
 },
 "nbformat": 4,
 "nbformat_minor": 5
}
